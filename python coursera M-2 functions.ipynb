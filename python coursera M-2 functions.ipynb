{
 "cells": [
  {
   "cell_type": "code",
   "execution_count": null,
   "id": "d59946ca",
   "metadata": {},
   "outputs": [],
   "source": [
    "# Functions"
   ]
  },
  {
   "cell_type": "code",
   "execution_count": 50,
   "id": "875df68a",
   "metadata": {},
   "outputs": [],
   "source": [
    "# def is short for “define”. It's a keyword that you need to \"define a function\""
   ]
  },
  {
   "cell_type": "code",
   "execution_count": 1,
   "id": "d1845bb5",
   "metadata": {},
   "outputs": [],
   "source": [
    "def greeting(name,department):\n",
    "    print(\"Hello\",name,\"from department\",department)"
   ]
  },
  {
   "cell_type": "code",
   "execution_count": 4,
   "id": "c250d76a",
   "metadata": {},
   "outputs": [
    {
     "name": "stdout",
     "output_type": "stream",
     "text": [
      "Hello spandana from department IT\n"
     ]
    }
   ],
   "source": [
    "greeting(\"spandana\",\"IT\")"
   ]
  },
  {
   "cell_type": "code",
   "execution_count": 5,
   "id": "6bd902f9",
   "metadata": {},
   "outputs": [
    {
     "name": "stdout",
     "output_type": "stream",
     "text": [
      "60\n",
      "10\n"
     ]
    }
   ],
   "source": [
    "# usage of max() and min():\n",
    "\n",
    "# For example, you could use these functions to identify the longest or shortest session that a user logged in for a cource. \n",
    "# If a specific user logged in seven times during a week, and you stored their access times in minutes in a list, \n",
    "# you can use the max() and min() functions to find and print their longest and shortest sessions:\n",
    "\n",
    "user1 = [20,10,35,12,19,45,60]  # minutes per day in one week\n",
    "print(max(user1))\n",
    "print(min(user1))\n"
   ]
  },
  {
   "cell_type": "code",
   "execution_count": 6,
   "id": "16f5d440",
   "metadata": {},
   "outputs": [],
   "source": [
    "def area_of_traingle(breadth, height):\n",
    "    return breadth*height/2"
   ]
  },
  {
   "cell_type": "code",
   "execution_count": 7,
   "id": "c0dd2c82",
   "metadata": {},
   "outputs": [
    {
     "data": {
      "text/plain": [
       "10.0"
      ]
     },
     "execution_count": 7,
     "metadata": {},
     "output_type": "execute_result"
    }
   ],
   "source": [
    "area_of_traingle(5,4)"
   ]
  },
  {
   "cell_type": "code",
   "execution_count": 12,
   "id": "fac23b69",
   "metadata": {},
   "outputs": [
    {
     "name": "stdout",
     "output_type": "stream",
     "text": [
      "sum of areas of traingles a and b are: 12.0\n",
      "area of traingle a is : 4.0\n"
     ]
    }
   ],
   "source": [
    "# Returning values in functions\n",
    "\n",
    "def area_of_traingle(breadth, height):\n",
    "    return breadth*height/2\n",
    "a = area_of_traingle(4,2)\n",
    "b = area_of_traingle(4,4)\n",
    "sum = a + b\n",
    "print(\"sum of areas of traingles a and b are: \" + str(sum))\n",
    "print(\"area of traingle a is : \"+ str(a))"
   ]
  },
  {
   "cell_type": "code",
   "execution_count": 42,
   "id": "d4bab39f",
   "metadata": {},
   "outputs": [
    {
     "name": "stdout",
     "output_type": "stream",
     "text": [
      "hello vamsi span ,your lucky number is:  90\n"
     ]
    }
   ],
   "source": [
    "# code reuse \n",
    "# this script uses len() and str()\n",
    "# print lucky numbers of persons by giving their names as input. lucky number format is your wish and the print staememnt format is:\"hello 'name', your lucky number is:\"\n",
    "\n",
    "def lucky_number(name):\n",
    "    number = len(name) * 9\n",
    "    print(\"hello\",name,\",your lucky number is: \",str(number))\n",
    "\n",
    "lucky_number(\"vamsi span\")"
   ]
  },
  {
   "cell_type": "code",
   "execution_count": 49,
   "id": "4a9325d1",
   "metadata": {},
   "outputs": [
    {
     "data": {
      "text/plain": [
       "12.56"
      ]
     },
     "execution_count": 49,
     "metadata": {},
     "output_type": "execute_result"
    }
   ],
   "source": [
    "# code style : use readable way to write your code to understand all people includes you, for ex:after 6 months you forgot your own code so, structure code in a simple way\n",
    "# parameter (argument) -  a value passed into a function for use within the function\n",
    "\n",
    "def area_of_circle(radius):\n",
    "    pi = 3.14\n",
    "    return pi*(radius**2)\n",
    "\n",
    "area_of_circle(2)"
   ]
  },
  {
   "cell_type": "code",
   "execution_count": 65,
   "id": "b9f38154",
   "metadata": {},
   "outputs": [],
   "source": [
    "# 1.Use a function to return the result of a 'measurement conversion'\n",
    "\n",
    "# Use arithmetic operators to perform a calculation\n",
    "\n",
    "# Convert the return value from a float data type to a string for the print() function\n",
    "\n",
    "# I use example 'megabyte to gigabyte conversion' 1gb=1024mb\n",
    "\n",
    "def gigabyte(megabytes):\n",
    "    if megabytes == 1024:\n",
    "        return \"1gb\"\n",
    "    elif megabytes > 1024:\n",
    "        a = megabytes // 1024            # here we use // means normal division but not returns float values\n",
    "        print(str(a),\"gb\")\n",
    "    else:\n",
    "        print(\"provide greater than 1024 megabytes of data to caluculate gb\")\n",
    "    \n",
    "        \n",
    "\n"
   ]
  },
  {
   "cell_type": "code",
   "execution_count": 66,
   "id": "f905e0ca",
   "metadata": {},
   "outputs": [
    {
     "name": "stdout",
     "output_type": "stream",
     "text": [
      "2 gb\n"
     ]
    }
   ],
   "source": [
    "gigabyte(2048)"
   ]
  },
  {
   "cell_type": "code",
   "execution_count": 73,
   "id": "54020f61",
   "metadata": {},
   "outputs": [
    {
     "name": "stdout",
     "output_type": "stream",
     "text": [
      "the volume of oil in milliliters is: 1998.8\n",
      "the volume of oil in milliliters is: 3997.6\n"
     ]
    }
   ],
   "source": [
    "# 2.Use a function to return the result of a measurement conversion\n",
    "# Use arithmetic operators to perform a calculation\n",
    "# *Combine 'text' with a 'function call' 'within a print()' statement\n",
    "# Convert the return value from a float data type to a string for the print() function\n",
    "# *Call the function and perform a calculation on the 'return value' 'within a print() statement'\n",
    "\n",
    "def conversion_to_milliliter(oil):         # oil in liters\n",
    "    ml = oil * 999.4                        # 1 liter = 999.4ml\n",
    "    return ml\n",
    "print(\"the volume of oil in milliliters is: \" + str(conversion_to_milliliter(2)))    # Combining the 'text' with a 'function call' 'within a print()' statement    \n",
    "print(\"the volume of oil in milliliters is: \" + str(conversion_to_milliliter(2*2)))  # Calling the function and perform a calculation on the 'return value' 'within a print() statement'\n",
    "\n",
    "\n",
    "   "
   ]
  },
  {
   "cell_type": "code",
   "execution_count": null,
   "id": "b06aacb9",
   "metadata": {},
   "outputs": [],
   "source": []
  }
 ],
 "metadata": {
  "kernelspec": {
   "display_name": "Python 3 (ipykernel)",
   "language": "python",
   "name": "python3"
  },
  "language_info": {
   "codemirror_mode": {
    "name": "ipython",
    "version": 3
   },
   "file_extension": ".py",
   "mimetype": "text/x-python",
   "name": "python",
   "nbconvert_exporter": "python",
   "pygments_lexer": "ipython3",
   "version": "3.11.4"
  }
 },
 "nbformat": 4,
 "nbformat_minor": 5
}
