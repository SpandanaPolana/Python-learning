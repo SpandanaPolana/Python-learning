{
 "cells": [
  {
   "cell_type": "code",
   "execution_count": 3,
   "id": "21d3e846",
   "metadata": {},
   "outputs": [],
   "source": [
    "# Strings : are sequences of characters, and are \"immutable\". if we take s =\"span\" in span every single character is a string.\n",
    "# Lists : are sequences of elements of any data type, and are \"mutable\".\n",
    "# Tuples : are like lists, sequence of elements of any data type, and tuples are \"immutable\". "
   ]
  },
  {
   "cell_type": "code",
   "execution_count": null,
   "id": "6c18c8d2",
   "metadata": {},
   "outputs": [],
   "source": []
  },
  {
   "cell_type": "code",
   "execution_count": 4,
   "id": "95b7396b",
   "metadata": {},
   "outputs": [],
   "source": [
    "# d/f b/w Lists and Tuples why we introduce tuples:\n",
    "\n",
    "# Tuples can be useful when we need to ensure that an element is in a certain position and will not change. \n",
    "# Since lists are mutable, the order of the elements can be changed on us. \n",
    "# Since the order of the elements in a tuple can't be changed, the position of the element in a tuple can have meaning.\n",
    "# The order of the returned values is important, and a tuple ensures that the order isn’t going to change. "
   ]
  },
  {
   "cell_type": "code",
   "execution_count": null,
   "id": "f7af0082",
   "metadata": {},
   "outputs": [],
   "source": []
  },
  {
   "cell_type": "code",
   "execution_count": null,
   "id": "4f396792",
   "metadata": {},
   "outputs": [],
   "source": []
  },
  {
   "cell_type": "code",
   "execution_count": null,
   "id": "f5e8e531",
   "metadata": {},
   "outputs": [],
   "source": [
    "# List"
   ]
  },
  {
   "cell_type": "code",
   "execution_count": 2,
   "id": "f421e824",
   "metadata": {},
   "outputs": [
    {
     "data": {
      "text/plain": [
       "list"
      ]
     },
     "execution_count": 2,
     "metadata": {},
     "output_type": "execute_result"
    }
   ],
   "source": [
    "x = [\"Now\", \"we\", \"are\", \"cooking!\"]\n",
    "type(x)"
   ]
  },
  {
   "cell_type": "code",
   "execution_count": 3,
   "id": "94462f57",
   "metadata": {},
   "outputs": [
    {
     "name": "stdout",
     "output_type": "stream",
     "text": [
      "['Now', 'we', 'are', 'cooking!']\n"
     ]
    }
   ],
   "source": [
    "x = [\"Now\", \"we\", \"are\", \"cooking!\"]\n",
    "print(x)"
   ]
  },
  {
   "cell_type": "code",
   "execution_count": 4,
   "id": "2f5f278f",
   "metadata": {},
   "outputs": [
    {
     "data": {
      "text/plain": [
       "4"
      ]
     },
     "execution_count": 4,
     "metadata": {},
     "output_type": "execute_result"
    }
   ],
   "source": [
    "x = [\"Now\", \"we\", \"are\", \"cooking!\"]\n",
    "len(x)"
   ]
  },
  {
   "cell_type": "code",
   "execution_count": 11,
   "id": "dc462665",
   "metadata": {},
   "outputs": [
    {
     "name": "stdout",
     "output_type": "stream",
     "text": [
      "['Now', 'we']\n"
     ]
    },
    {
     "ename": "IndexError",
     "evalue": "list index out of range",
     "output_type": "error",
     "traceback": [
      "\u001b[1;31m---------------------------------------------------------------------------\u001b[0m",
      "\u001b[1;31mIndexError\u001b[0m                                Traceback (most recent call last)",
      "Cell \u001b[1;32mIn[11], line 4\u001b[0m\n\u001b[0;32m      1\u001b[0m x \u001b[38;5;241m=\u001b[39m [\u001b[38;5;124m\"\u001b[39m\u001b[38;5;124mNow\u001b[39m\u001b[38;5;124m\"\u001b[39m, \u001b[38;5;124m\"\u001b[39m\u001b[38;5;124mwe\u001b[39m\u001b[38;5;124m\"\u001b[39m, \u001b[38;5;124m\"\u001b[39m\u001b[38;5;124mare\u001b[39m\u001b[38;5;124m\"\u001b[39m, \u001b[38;5;124m\"\u001b[39m\u001b[38;5;124mcooking!\u001b[39m\u001b[38;5;124m\"\u001b[39m]\n\u001b[0;32m      3\u001b[0m \u001b[38;5;28mprint\u001b[39m(x[:\u001b[38;5;241m2\u001b[39m])\n\u001b[1;32m----> 4\u001b[0m \u001b[38;5;28mprint\u001b[39m(x[\u001b[38;5;241m4\u001b[39m])\n",
      "\u001b[1;31mIndexError\u001b[0m: list index out of range"
     ]
    }
   ],
   "source": [
    "x = [\"Now\", \"we\", \"are\", \"cooking!\"]\n",
    "#print lists\n",
    "print(x[:2])\n",
    "print(x[4])"
   ]
  },
  {
   "cell_type": "code",
   "execution_count": 12,
   "id": "3ae18f60",
   "metadata": {},
   "outputs": [
    {
     "data": {
      "text/plain": [
       "True"
      ]
     },
     "execution_count": 12,
     "metadata": {},
     "output_type": "execute_result"
    }
   ],
   "source": [
    "x = [\"Now\", \"we\", \"are\", \"cooking!\"]\n",
    "\"we\" in x"
   ]
  },
  {
   "cell_type": "code",
   "execution_count": 2,
   "id": "225eb6c6",
   "metadata": {},
   "outputs": [
    {
     "name": "stdout",
     "output_type": "stream",
     "text": [
      "lesson\n",
      "\n"
     ]
    }
   ],
   "source": [
    "# print specific(n) word from a given sentence           # don't forgot in lists also index start from 0 not 1\n",
    "\n",
    "def get_word(sentence, n):\n",
    "\t# Only proceed if n is positive \n",
    "\tif n > 0:\n",
    "\t\twords = sentence.split()\n",
    "\t\t# Only proceed if n is not more than the number of words \n",
    "\t\tif n <= len(words):\n",
    "\t\t\treturn(words[n-1])\n",
    "\treturn(\"\")\n",
    "\n",
    "print(get_word(\"This is a lesson about lists\", 4)) # Should print: lesson\n",
    "print(get_word(\"This is a lesson about lists\", -4)) # Nothing"
   ]
  },
  {
   "cell_type": "code",
   "execution_count": 14,
   "id": "6d85d1f2",
   "metadata": {},
   "outputs": [
    {
     "name": "stdout",
     "output_type": "stream",
     "text": [
      "['Pineapple', 'Banana', 'Apple', 'Melon', 'Erdberee']\n",
      "['Orange', 'Pineapple', 'Banana', 'Apple', 'Melon', 'Erdberee']\n",
      "['Orange', 'Pineapple', 'Banana', 'Apple', 'Erdberee']\n",
      "['Orange', 'Pineapple', 'Banana', 'Erdberee']\n",
      "['Orange', 'Pineapple', 'Strawberry', 'Erdberee']\n"
     ]
    }
   ],
   "source": [
    "# list operations: .append() , .insert(i,\"\") , .pop() , .remove() , .sort() , list[i] = ''\n",
    "\n",
    "fruits = [\"Pineapple\", \"Banana\", \"Apple\", \"Melon\"]\n",
    "\n",
    "# add elements into list:\n",
    "fruits.append(\"Erdberee\")\n",
    "print(fruits)\n",
    "\n",
    "fruits.insert(0, \"Orange\")\n",
    "print(fruits)\n",
    "\n",
    "# remove elements in list\n",
    "fruits.remove(\"Melon\")\n",
    "print(fruits)\n",
    "\n",
    "fruits.pop(3)\n",
    "print(fruits)\n",
    "\n",
    "# modify elements in the list\n",
    "fruits[2] = \"Strawberry\"\n",
    "print(fruits)"
   ]
  },
  {
   "cell_type": "code",
   "execution_count": null,
   "id": "12a67c20",
   "metadata": {},
   "outputs": [],
   "source": []
  },
  {
   "cell_type": "code",
   "execution_count": 19,
   "id": "48e0e841",
   "metadata": {},
   "outputs": [],
   "source": [
    "# .sort() method   and   'sorted()' function   :  d/f is sorted() creates a new list  while .sort() reorganize the list."
   ]
  },
  {
   "cell_type": "code",
   "execution_count": 10,
   "id": "b1299c30",
   "metadata": {},
   "outputs": [
    {
     "data": {
      "text/plain": [
       "[1, 2, 3, 7, 9]"
      ]
     },
     "execution_count": 10,
     "metadata": {},
     "output_type": "execute_result"
    }
   ],
   "source": [
    "numbers = [9,7,2,1,3]\n",
    "numbers.sort()             # 'or'    sorted(numbers)\n",
    "print(numbers)     "
   ]
  },
  {
   "cell_type": "code",
   "execution_count": 14,
   "id": "ba4e2deb",
   "metadata": {},
   "outputs": [
    {
     "data": {
      "text/plain": [
       "['a', 'roja', 'sandhya', 'vamsi']"
      ]
     },
     "execution_count": 14,
     "metadata": {},
     "output_type": "execute_result"
    }
   ],
   "source": [
    "names = [\"sandhya\",\"vamsi\",\"roja\",\"a\"]\n",
    "sorted(names)"
   ]
  },
  {
   "cell_type": "code",
   "execution_count": 21,
   "id": "04b130a1",
   "metadata": {},
   "outputs": [
    {
     "name": "stdout",
     "output_type": "stream",
     "text": [
      "['a', 'roja', 'sandhya', 'vamsi']\n",
      "['sandhya', 'vamsi', 'roja', 'a']\n"
     ]
    }
   ],
   "source": [
    "names = [\"sandhya\",\"vamsi\",\"roja\",\"a\"]\n",
    "print(sorted(names))\n",
    "print(names)   # so it prints o/p same as input after using the sorted() function also  but if we use the .sort() method the o/p is different see above code \n"
   ]
  },
  {
   "cell_type": "code",
   "execution_count": 22,
   "id": "af8ace56",
   "metadata": {},
   "outputs": [
    {
     "name": "stdout",
     "output_type": "stream",
     "text": [
      "['a', 'roja', 'sandhya', 'vamsi']\n",
      "['sandhya', 'vamsi', 'roja', 'a']\n",
      "['a', 'roja', 'vamsi', 'sandhya']\n"
     ]
    }
   ],
   "source": [
    "names = [\"sandhya\",\"vamsi\",\"roja\",\"a\"]\n",
    "print(sorted(names))\n",
    "print(names)\n",
    "print(sorted(names,key = len))   # ***  it sorts the keys based on the length of the key."
   ]
  },
  {
   "cell_type": "code",
   "execution_count": 18,
   "id": "93cc852e",
   "metadata": {},
   "outputs": [
    {
     "name": "stdout",
     "output_type": "stream",
     "text": [
      "(0, 'sandhya')\n",
      "(1, 'span')\n",
      "(2, 'roja')\n",
      "(3, 'a')\n"
     ]
    }
   ],
   "source": [
    "# enumerate:\n",
    "# if you want to access the elements in a list, along with the index of the element in question? \n",
    "# You can do this using the enumerate() function. The enumerate() function takes a list as a parameter and returns a tuple for each element in the list. \n",
    "# The first value of the tuple is the index and the second value is the element itself.\n",
    "\n",
    "names = [\"sandhya\",\"span\",\"roja\",\"a\"]\n",
    "for x in enumerate(names):\n",
    "    print(x)"
   ]
  },
  {
   "cell_type": "code",
   "execution_count": null,
   "id": "dc996903",
   "metadata": {},
   "outputs": [],
   "source": []
  },
  {
   "cell_type": "code",
   "execution_count": null,
   "id": "366296a5",
   "metadata": {},
   "outputs": [],
   "source": [
    "# tuple"
   ]
  },
  {
   "cell_type": "code",
   "execution_count": 1,
   "id": "b624aa2e",
   "metadata": {},
   "outputs": [],
   "source": [
    "# Tuple :Tuples are sequences of elements of any type that are immutable.\n",
    "#        We write tuples in parentheses instead of square brackets."
   ]
  },
  {
   "cell_type": "code",
   "execution_count": 2,
   "id": "49bdd7c5",
   "metadata": {},
   "outputs": [
    {
     "name": "stdout",
     "output_type": "stream",
     "text": [
      "17.46\n",
      "0.48\n"
     ]
    }
   ],
   "source": [
    "# example in tuple : \n",
    "# Let's use tuples to store information about a file: its name, its type and its size in bytes.o/p return the size in kilobytes (a kilobyte is 1024 bytes) up to 2 decimal places. \n",
    "\n",
    "def file_size(file_info):\n",
    "    file_name, file_type, file_size = file_info\n",
    "    return(\"{:.2f}\".format(file_size / 1024))\n",
    "\n",
    "print(file_size(('Class Assignment', 'docx', 17875))) # Should print 17.46\n",
    "print(file_size(('Notes', 'txt', 496))) # Should print 0.48"
   ]
  },
  {
   "cell_type": "code",
   "execution_count": null,
   "id": "4bb01b80",
   "metadata": {},
   "outputs": [],
   "source": []
  },
  {
   "cell_type": "code",
   "execution_count": null,
   "id": "a899f73b",
   "metadata": {},
   "outputs": [],
   "source": []
  },
  {
   "cell_type": "code",
   "execution_count": null,
   "id": "3907e20a",
   "metadata": {},
   "outputs": [],
   "source": [
    "# iterating over lists and tuples"
   ]
  },
  {
   "cell_type": "code",
   "execution_count": 3,
   "id": "263600e7",
   "metadata": {},
   "outputs": [
    {
     "name": "stdout",
     "output_type": "stream",
     "text": [
      "total characters: 21 , average length: 5.25\n"
     ]
    }
   ],
   "source": [
    "span = [\"spandi\",\"vamsi\",\"krish\",\"kittu\"]\n",
    "i = 0\n",
    "for char in span:\n",
    "    i = i + len(char)                                                              # len(span) = 4    final i = 21,21/4 = 5.25\n",
    "print(\"total characters: {} , average length: {}\".format(i, i/len(span)))"
   ]
  },
  {
   "cell_type": "code",
   "execution_count": 1,
   "id": "956fefb8",
   "metadata": {},
   "outputs": [
    {
     "name": "stdout",
     "output_type": "stream",
     "text": [
      "1- vamsi\n",
      "2- span\n",
      "3- kittu\n"
     ]
    }
   ],
   "source": [
    "# if you want to access the elements in a list, along with the index of the element in question? You can do this using the enumerate() function. The enumerate() function takes a list as a parameter and returns a tuple for each element in the list. The first value of the tuple is the index and the second value is the element itself.\n",
    "# enumerate(): see carefully it prints data string with index number. enumerate function unpacks it. if we use same code without enumerate it doesn't works\n",
    "\n",
    "winners = [\"vamsi\", \"span\", \"kittu\"]\n",
    "for i,person in enumerate(winners):\n",
    "  print(\"{}- {}\".format(i+1, person))"
   ]
  },
  {
   "cell_type": "code",
   "execution_count": 16,
   "id": "9135899d",
   "metadata": {},
   "outputs": [
    {
     "name": "stdout",
     "output_type": "stream",
     "text": [
      "['span <span@gmail.com>', 'vamsi <vamsi@gmail.com>']\n"
     ]
    }
   ],
   "source": [
    "def full_emails(people):\n",
    "    result = []\n",
    "    for name,email in people:\n",
    "        result.append(\"{} <{}>\".format(name,email))\n",
    "    print(result)\n",
    "        \n",
    "full_emails([(\"span\",\"span@gmail.com\"),(\"vamsi\",\"vamsi@gmail.com\")])"
   ]
  },
  {
   "cell_type": "code",
   "execution_count": null,
   "id": "ec192b8e",
   "metadata": {},
   "outputs": [],
   "source": []
  },
  {
   "cell_type": "code",
   "execution_count": null,
   "id": "297657a6",
   "metadata": {},
   "outputs": [],
   "source": []
  },
  {
   "cell_type": "code",
   "execution_count": null,
   "id": "afaa63e2",
   "metadata": {},
   "outputs": [],
   "source": [
    "# d/f b/w \"for loop\" and \"list comprehensions\"?\n",
    "# list comprehensions create a simple codes and code in 2 lines. if you create a code for complex applications it is very hard to read others and error modification also.\n",
    "# for loops are used for complex codes which others can easily understand while seeing the code"
   ]
  },
  {
   "cell_type": "code",
   "execution_count": null,
   "id": "e0808aef",
   "metadata": {},
   "outputs": [],
   "source": []
  },
  {
   "cell_type": "code",
   "execution_count": 3,
   "id": "1465ff28",
   "metadata": {},
   "outputs": [
    {
     "name": "stdout",
     "output_type": "stream",
     "text": [
      "[2, 4, 6, 8, 10, 12, 14, 16, 18, 20]\n"
     ]
    }
   ],
   "source": [
    "# multiples of any number in 2 ways:\n",
    "\n",
    "# way-1:\n",
    "\n",
    "z = []\n",
    "for x in range(1,11):\n",
    "    z.append(x*2)\n",
    "print(z)\n"
   ]
  },
  {
   "cell_type": "code",
   "execution_count": 4,
   "id": "e1c7cfcd",
   "metadata": {},
   "outputs": [
    {
     "name": "stdout",
     "output_type": "stream",
     "text": [
      "[2, 4, 6, 8, 10, 12, 14, 16, 18, 20]\n"
     ]
    }
   ],
   "source": [
    "# way-2:using List comprehensions\n",
    "\n",
    "z = [x*2 for x in range(1,11)]\n",
    "print(z)"
   ]
  },
  {
   "cell_type": "code",
   "execution_count": 6,
   "id": "58f93081",
   "metadata": {},
   "outputs": [
    {
     "name": "stdout",
     "output_type": "stream",
     "text": [
      "[6, 4, 1, 4, 3, 1]\n"
     ]
    }
   ],
   "source": [
    "#1:\n",
    "\n",
    "z =[]\n",
    "cources = [\"python\",\"ruby\",\"c\",\"java\",\"c++\",\"R\"]\n",
    "for x in cources:\n",
    "    z.append(len(x))    \n",
    "print(z)"
   ]
  },
  {
   "cell_type": "code",
   "execution_count": 8,
   "id": "fd2233b8",
   "metadata": {},
   "outputs": [
    {
     "name": "stdout",
     "output_type": "stream",
     "text": [
      "[6, 4, 1, 4, 3, 1]\n"
     ]
    }
   ],
   "source": [
    "#2:using List comprehensions\n",
    "cources = [\"python\",\"ruby\",\"c\",\"java\",\"c++\",\"R\"]\n",
    "z = [len(x) for x in cources]\n",
    "print(z)\n",
    "\n"
   ]
  },
  {
   "cell_type": "code",
   "execution_count": 29,
   "id": "42fea7a9",
   "metadata": {},
   "outputs": [
    {
     "name": "stdout",
     "output_type": "stream",
     "text": [
      "[2, 4, 6, 8]\n"
     ]
    }
   ],
   "source": [
    "# 2: using List comprehensions with conditional statements\n",
    "\n",
    "z = [x for x in range(1,10) if x % 2 == 0]\n",
    "print(z)"
   ]
  },
  {
   "cell_type": "code",
   "execution_count": 27,
   "id": "f3c550f4",
   "metadata": {},
   "outputs": [
    {
     "name": "stdout",
     "output_type": "stream",
     "text": [
      "[(1, 2, 3), (1, 2, 3), (1, 2, 3), (1, 2, 3), (1, 2, 3)]\n"
     ]
    }
   ],
   "source": [
    "#1:\n",
    "\n",
    "numbers = [(1, 2, 3) for _ in range(5)]\n",
    "print(numbers)"
   ]
  },
  {
   "cell_type": "code",
   "execution_count": 28,
   "id": "24d5e3e6",
   "metadata": {},
   "outputs": [
    {
     "name": "stdout",
     "output_type": "stream",
     "text": [
      "[(1, 2, 3), (1, 2, 3), (1, 2, 3), (1, 2, 3), (1, 2, 3)]\n"
     ]
    }
   ],
   "source": [
    "# *** see carefully ***\n",
    "#2: you want to print 5 times same i/p\n",
    "\n",
    "numbers = []\n",
    "for _ in range(5):\n",
    "    numbers.append((1,2,3))\n",
    "print(numbers)"
   ]
  },
  {
   "cell_type": "code",
   "execution_count": 30,
   "id": "26bd627b",
   "metadata": {},
   "outputs": [
    {
     "name": "stdout",
     "output_type": "stream",
     "text": [
      "(1, 2, ['x', 'b', 'c'])\n"
     ]
    }
   ],
   "source": [
    "# we can't change the tuple because tuple is immutable, but we can change the parameters that are passing inside the tuple, \n",
    "# i.e  you use lists as parameters in tuple because lists are mutable.\n",
    "\n",
    "# ex:\n",
    "my_tuple = (1, 2, ['a', 'b', 'c'])\n",
    "my_tuple[2][0] = 'x'  \n",
    "print(my_tuple)  # Outputs: (1, 2, ['x', 'b', 'c'])"
   ]
  },
  {
   "cell_type": "code",
   "execution_count": null,
   "id": "d48da6cb",
   "metadata": {},
   "outputs": [],
   "source": []
  },
  {
   "cell_type": "code",
   "execution_count": null,
   "id": "41ee956f",
   "metadata": {},
   "outputs": [],
   "source": []
  },
  {
   "cell_type": "code",
   "execution_count": 33,
   "id": "26697d78",
   "metadata": {},
   "outputs": [
    {
     "data": {
      "text/plain": [
       "(6, 2, 8, 2.0)"
      ]
     },
     "execution_count": 33,
     "metadata": {},
     "output_type": "execute_result"
    }
   ],
   "source": [
    "# Returning multiple values from functions:\n",
    "\n",
    "def caluculate(a,b):\n",
    "    return a+b, a-b, a*b, a/b\n",
    "    \n",
    "caluculate(4,2)"
   ]
  },
  {
   "cell_type": "code",
   "execution_count": 36,
   "id": "c59e519d",
   "metadata": {},
   "outputs": [
    {
     "name": "stdout",
     "output_type": "stream",
     "text": [
      "12\n",
      "8\n"
     ]
    }
   ],
   "source": [
    "def calculate_numbers(a, b):\n",
    "    return a+b, a-b, a*b, a/b\n",
    "\n",
    "add_result, sub_result, mul_result, div_result = calculate_numbers(10, 2)\n",
    "\n",
    "print(add_result)  \n",
    "print(sub_result)  "
   ]
  },
  {
   "cell_type": "code",
   "execution_count": 6,
   "id": "90b9c262",
   "metadata": {},
   "outputs": [
    {
     "name": "stdout",
     "output_type": "stream",
     "text": [
      "[('sandy', 1), ('span', 2), ('rose', 3)]\n"
     ]
    }
   ],
   "source": [
    "# zip(): combines 2 lists into list of tuples\n",
    "\n",
    "l1 = [\"sandy\",\"span\",\"rose\"]\n",
    "l2 = [1,2,3]\n",
    "s = zip(l1,l2)\n",
    "print(list(s))"
   ]
  },
  {
   "cell_type": "code",
   "execution_count": 26,
   "id": "d6a74555",
   "metadata": {},
   "outputs": [
    {
     "data": {
      "text/plain": [
       "[2, 3, 4, 5]"
      ]
     },
     "execution_count": 26,
     "metadata": {},
     "output_type": "execute_result"
    }
   ],
   "source": [
    "# this is normal :  see next block below how it prints o/p using map() function in lists\n",
    "\n",
    "def add_number(number):\n",
    "    l = []\n",
    "    for x in number:\n",
    "        l.append(x+1)\n",
    "    return l\n",
    "\n",
    "add_number([1,2,3,4])"
   ]
  },
  {
   "cell_type": "code",
   "execution_count": 25,
   "id": "5c97bbfc",
   "metadata": {},
   "outputs": [
    {
     "name": "stdout",
     "output_type": "stream",
     "text": [
      "[2, 3, 4, 5]\n"
     ]
    }
   ],
   "source": [
    "# using ***  map()  ***\n",
    "\n",
    "# A simple function to add 1 to a given numbe\n",
    "def add_number(x):\n",
    "    return x + 1\n",
    "\n",
    "# A list of numbers\n",
    "numbers = [1,2,3,4]\n",
    "# Use map to apply the function to each element in the list\n",
    "result = map(add_number,numbers)\n",
    "# Convert the map object to a list to print the result\n",
    "print(list(result))"
   ]
  },
  {
   "cell_type": "code",
   "execution_count": 42,
   "id": "b03aa1f7",
   "metadata": {},
   "outputs": [
    {
     "name": "stdout",
     "output_type": "stream",
     "text": [
      "The list span includes hi,hello,danke\n"
     ]
    }
   ],
   "source": [
    "# Use the \"string.join()\" method to concatenate a string that provides 'a list name' and 'its elements'.\n",
    "\n",
    "def elements(list_name,list_elements): \n",
    "    s = \",\"\n",
    "    print(\"The list {} includes {}\".format(list_name,s.join(list_elements)))  # (or)  return \"The list \" + list_name + \" and list includes:\" + \",\".join(list_elements)\n",
    "\n",
    "elements(\"span\",[\"hi\",\"hello\",\"danke\"])"
   ]
  },
  {
   "cell_type": "code",
   "execution_count": 7,
   "id": "75a33483",
   "metadata": {},
   "outputs": [
    {
     "name": "stdout",
     "output_type": "stream",
     "text": [
      " sandhya-1  spandana-2  roja-3  \n"
     ]
    }
   ],
   "source": [
    "# Use the string.split() method to separate a string into a list of individual words.\n",
    "\n",
    "# Iterate over the new list using a for loop.\n",
    "\n",
    "# Modify each element in the list by slicing the element’s string at a given [1:] index position and appending the substring to the end of the element.\n",
    "\n",
    "# Convert a list back into a string\n",
    "\n",
    "def modify_string(input_string):\n",
    "    \n",
    "    new_string = \" \"\n",
    "    new_list = input_string.split()\n",
    "    for x in new_list:\n",
    "        new_string += x[1:] + \"-\" + x[0]+ \"  \"\n",
    "    print(new_string)\n",
    "    \n",
    "        \n",
    "        \n",
    "modify_string(\"1sandhya 2spandana 3roja\")\n",
    "        \n",
    "    \n",
    "    \n",
    "    "
   ]
  },
  {
   "cell_type": "code",
   "execution_count": 22,
   "id": "7e1a0064",
   "metadata": {},
   "outputs": [],
   "source": [
    "# Use a for loop to modify elements of a list.\n",
    "\n",
    "# Use the list.append() method.\n",
    "\n",
    "# Use the string.endswith() and string.replace() methods to modify the elements within a list.\n",
    "\n",
    "def modify_list(meeting):\n",
    "    l = []\n",
    "    for element in meeting:\n",
    "        if element.endswith(\"2023\"):\n",
    "            s = element.replace(\"2023\",\"2024\")\n",
    "            l.append(s)\n",
    "        else:\n",
    "            l.append(element)\n",
    "    print(l) \n",
    "            \n",
    "    \n",
    "    "
   ]
  },
  {
   "cell_type": "code",
   "execution_count": 23,
   "id": "3f127028",
   "metadata": {},
   "outputs": [
    {
     "name": "stdout",
     "output_type": "stream",
     "text": [
      "['jan 2024', 'mar 2024', 'may 2024', 'sep 2024']\n"
     ]
    }
   ],
   "source": [
    "modify_list([\"jan 2023\",\"mar 2023\",\"may 2024\",\"sep 2023\"])"
   ]
  },
  {
   "cell_type": "code",
   "execution_count": 25,
   "id": "241090a6",
   "metadata": {},
   "outputs": [
    {
     "name": "stdout",
     "output_type": "stream",
     "text": [
      "ellohay owhay reaay ouyay \n"
     ]
    }
   ],
   "source": [
    "# Create a function that turns text into pig latin. Pig latin is a simple text transformation that modifies each word by:\n",
    "\n",
    "# moving the first character to the end of each word;then appending the letters \"ay\" to the end of each word.\n",
    "\n",
    "# For example, python ends up as ythonpay.\n",
    "\n",
    "def pig_latin(text):\n",
    "  say = \"\"\n",
    "  words = text.split()\n",
    "  for word in words:\n",
    "    say += word[1:] + word[0] + \"ay\" +\" \"\n",
    "  return say\n",
    "\n",
    "print(pig_latin(\"hello how are you\")) # Should be \"ellohay owhay reaay ouyay"
   ]
  },
  {
   "cell_type": "code",
   "execution_count": null,
   "id": "60dfd721",
   "metadata": {},
   "outputs": [],
   "source": []
  }
 ],
 "metadata": {
  "kernelspec": {
   "display_name": "Python 3 (ipykernel)",
   "language": "python",
   "name": "python3"
  },
  "language_info": {
   "codemirror_mode": {
    "name": "ipython",
    "version": 3
   },
   "file_extension": ".py",
   "mimetype": "text/x-python",
   "name": "python",
   "nbconvert_exporter": "python",
   "pygments_lexer": "ipython3",
   "version": "3.11.4"
  }
 },
 "nbformat": 4,
 "nbformat_minor": 5
}
