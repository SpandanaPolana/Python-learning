{
 "cells": [
  {
   "cell_type": "code",
   "execution_count": 1,
   "id": "8854475c",
   "metadata": {},
   "outputs": [],
   "source": [
    "# dictonories: dictonories are mutable.the data inside the dictonories is key-value pair(keys and their values)\n",
    "#              Like lists, dictionaries are used to organize elements into collections.\n",
    "#              Unlike lists, you don't access elements inside dictionaries using their position(index).\n",
    "#              Where a list index is always a number, a dictionary key can be a different data type, like a string, integer, float, or even tuples."
   ]
  },
  {
   "cell_type": "code",
   "execution_count": 11,
   "id": "15c3e032",
   "metadata": {},
   "outputs": [],
   "source": [
    "# Dictionaries include one or more keys, with one or more values associated with each key. \n",
    "\n",
    "# my_dictionary = {\"keyA\":[\"value1\", \"value2\"], \"keyB\":[\"value3\", \"value4\"]}"
   ]
  },
  {
   "cell_type": "code",
   "execution_count": 17,
   "id": "e23b71e3",
   "metadata": {},
   "outputs": [
    {
     "data": {
      "text/plain": [
       "dict"
      ]
     },
     "execution_count": 17,
     "metadata": {},
     "output_type": "execute_result"
    }
   ],
   "source": [
    "x = {}\n",
    "type(x)"
   ]
  },
  {
   "cell_type": "code",
   "execution_count": 5,
   "id": "84bce28e",
   "metadata": {},
   "outputs": [
    {
     "name": "stdout",
     "output_type": "stream",
     "text": [
      "{'jpg': [10], 'txt': [9, 10, 11], 'csv': 2, 'py': 23}\n"
     ]
    }
   ],
   "source": [
    "file_counts = {\"jpg\":[10], \"txt\":[9,10,11], \"csv\":2, \"py\":23}\n",
    "print(file_counts)"
   ]
  },
  {
   "cell_type": "code",
   "execution_count": 10,
   "id": "206fb854",
   "metadata": {},
   "outputs": [
    {
     "data": {
      "text/plain": [
       "4"
      ]
     },
     "execution_count": 10,
     "metadata": {},
     "output_type": "execute_result"
    }
   ],
   "source": [
    "file_counts = {\"jpg\":[10], \"txt\":[9,10,11], \"csv\":2, \"py\":23}\n",
    "len(file_counts)"
   ]
  },
  {
   "cell_type": "code",
   "execution_count": 8,
   "id": "77dc2fbc",
   "metadata": {},
   "outputs": [
    {
     "data": {
      "text/plain": [
       "9"
      ]
     },
     "execution_count": 8,
     "metadata": {},
     "output_type": "execute_result"
    }
   ],
   "source": [
    "file_counts = {\"jpg\":10,\"txt\":9,\"csv\":2,\"py\":23}\n",
    "file_counts[\"txt\"]"
   ]
  },
  {
   "cell_type": "code",
   "execution_count": 4,
   "id": "177a2990",
   "metadata": {},
   "outputs": [
    {
     "name": "stdout",
     "output_type": "stream",
     "text": [
      "{'jpg': 10, 'txt': 9, 'csv': [2, 3], 'py': 23, 'http': 12}\n"
     ]
    }
   ],
   "source": [
    "# adding key to dict:\n",
    "\n",
    "file_counts = {\"jpg\":10,\"txt\":9,\"csv\":[2,3],\"py\":23}\n",
    "file_counts[\"http\"] = 12\n",
    "print(file_counts)"
   ]
  },
  {
   "cell_type": "code",
   "execution_count": 21,
   "id": "12c9a9d9",
   "metadata": {},
   "outputs": [
    {
     "name": "stdout",
     "output_type": "stream",
     "text": [
      "{'jpg': 10, 'txt': 12, 'csv': 2, 'py': 23}\n"
     ]
    }
   ],
   "source": [
    "# changing key values in dict:\n",
    "\n",
    "file_counts = {\"jpg\":10,\"txt\":9,\"csv\":2,\"py\":23}\n",
    "file_counts[\"txt\"] = 12\n",
    "print(file_counts)"
   ]
  },
  {
   "cell_type": "code",
   "execution_count": 22,
   "id": "ec95d081",
   "metadata": {},
   "outputs": [
    {
     "data": {
      "text/plain": [
       "True"
      ]
     },
     "execution_count": 22,
     "metadata": {},
     "output_type": "execute_result"
    }
   ],
   "source": [
    "# finding keys in dict:\n",
    "    \n",
    "file_counts = {\"jpg\":10,\"txt\":9,\"csv\":2,\"py\":23}\n",
    "\"txt\" in file_counts"
   ]
  },
  {
   "cell_type": "code",
   "execution_count": 15,
   "id": "c38b3901",
   "metadata": {},
   "outputs": [
    {
     "data": {
      "text/plain": [
       "'no data found'"
      ]
     },
     "execution_count": 15,
     "metadata": {},
     "output_type": "execute_result"
    }
   ],
   "source": [
    "# ** finding a specific key and getting their value in a dictionary: if key is not present it prints default value\n",
    "\n",
    "file_counts = {\"jpg\":10,\"txt\":9,\"csv\":2,\"py\":23}\n",
    "file_counts.get(\"t\",\"no data found\")\n",
    "\n"
   ]
  },
  {
   "cell_type": "code",
   "execution_count": 23,
   "id": "3ddfb0f1",
   "metadata": {},
   "outputs": [
    {
     "name": "stdout",
     "output_type": "stream",
     "text": [
      "{'jpg': 10, 'csv': 2, 'py': 23}\n"
     ]
    }
   ],
   "source": [
    "# delete keys in dict:\n",
    "\n",
    "file_counts = {\"jpg\":10,\"txt\":9,\"csv\":2,\"py\":23}\n",
    "del file_counts[\"txt\"]\n",
    "print(file_counts)"
   ]
  },
  {
   "cell_type": "code",
   "execution_count": 25,
   "id": "0b7bfcd7",
   "metadata": {},
   "outputs": [],
   "source": [
    "# iterating over dict:"
   ]
  },
  {
   "cell_type": "code",
   "execution_count": 27,
   "id": "3897cacf",
   "metadata": {},
   "outputs": [
    {
     "name": "stdout",
     "output_type": "stream",
     "text": [
      "jpg\n",
      "txt\n",
      "csv\n",
      "py\n"
     ]
    }
   ],
   "source": [
    "# 1:\n",
    "\n",
    "file_counts = {\"jpg\":10,\"txt\":9,\"csv\":2,\"py\":23}\n",
    "for x in file_counts:\n",
    "    print(x) "
   ]
  },
  {
   "cell_type": "code",
   "execution_count": 30,
   "id": "23aa8ce3",
   "metadata": {},
   "outputs": [
    {
     "name": "stdout",
     "output_type": "stream",
     "text": [
      "10 files of .jpg extension\n",
      " 9 files of .txt extension\n",
      " 2 files of .csv extension\n",
      "23 files of .py extension\n"
     ]
    }
   ],
   "source": [
    "#2:\n",
    "\n",
    "file_counts = {\"jpg\":10,\"txt\":9,\"csv\":2,\"py\":23}\n",
    "for x,y in file_counts.items():\n",
    "    print(\"{:>2} files of .{} extension\".format(y,x))"
   ]
  },
  {
   "cell_type": "code",
   "execution_count": 31,
   "id": "d93ad0d6",
   "metadata": {},
   "outputs": [
    {
     "name": "stdout",
     "output_type": "stream",
     "text": [
      "10\n",
      "9\n",
      "2\n",
      "23\n"
     ]
    }
   ],
   "source": [
    "# 3:\n",
    "\n",
    "file_counts = {\"jpg\":10,\"txt\":9,\"csv\":2,\"py\":23}\n",
    "for x in file_counts.values():  # (or) file_counts.keys() :prints all keys\n",
    "    print(x)"
   ]
  },
  {
   "cell_type": "code",
   "execution_count": 33,
   "id": "75cfcc61",
   "metadata": {},
   "outputs": [
    {
     "name": "stdout",
     "output_type": "stream",
     "text": [
      "dict_keys(['jpg', 'txt', 'csv', 'py'])\n",
      "dict_values([10, 9, 2, 23])\n"
     ]
    }
   ],
   "source": [
    "# 4:\n",
    "\n",
    "file_counts = {\"jpg\":10,\"txt\":9,\"csv\":2,\"py\":23}\n",
    "print(file_counts.keys())\n",
    "print(file_counts.values())"
   ]
  },
  {
   "cell_type": "code",
   "execution_count": 62,
   "id": "7069c910",
   "metadata": {},
   "outputs": [],
   "source": [
    "# 5: **** count how many times each letter appaer in a peace of text *****\n",
    "\n",
    "def count_letters(text):\n",
    "    result = {}\n",
    "    for letter in text:\n",
    "        if letter in result:\n",
    "            result[letter] = result[letter] + 1\n",
    "        else:\n",
    "            result[letter] = 1 \n",
    "    print(result)"
   ]
  },
  {
   "cell_type": "code",
   "execution_count": 65,
   "id": "8ecffbdc",
   "metadata": {},
   "outputs": [
    {
     "name": "stdout",
     "output_type": "stream",
     "text": [
      "{'a': 3, 'b': 1, 'c': 1, 'd': 2}\n"
     ]
    }
   ],
   "source": [
    "count_letters(\"aaabcdd\")"
   ]
  },
  {
   "cell_type": "code",
   "execution_count": 1,
   "id": "0a3f2740",
   "metadata": {},
   "outputs": [
    {
     "name": "stdout",
     "output_type": "stream",
     "text": [
      "the value of banana is 10\n"
     ]
    }
   ],
   "source": [
    "# while loops and if else statements are methods you can use to search for values within a dictionary.\n",
    "# If you want to search through an entire dictionary quickly to find a value, use a while loop. \n",
    "# If you want to search through a dictionary to find and check a value, use an if else statement to return the value and perform specific actions based on the result.\n",
    "\n",
    "# The goal here is to search if the 'key'-“banana” exists in the dictionary:\n",
    "\n",
    "myDictionary = {\"apple\":10, \"banana\":10, \"trauben\":20}\n",
    "key = \"banana\"\n",
    "if key in myDictionary:\n",
    "    print(f\"the value of {key} is {myDictionary[key]}\")\n",
    "else:\n",
    "    print(f\"{key} not found\")\n",
    "          \n",
    "          \n"
   ]
  },
  {
   "cell_type": "code",
   "execution_count": null,
   "id": "004a9af3",
   "metadata": {},
   "outputs": [],
   "source": []
  },
  {
   "cell_type": "code",
   "execution_count": null,
   "id": "630b191c",
   "metadata": {},
   "outputs": [],
   "source": []
  },
  {
   "cell_type": "code",
   "execution_count": null,
   "id": "c24d5577",
   "metadata": {},
   "outputs": [],
   "source": []
  },
  {
   "cell_type": "code",
   "execution_count": 9,
   "id": "f5d40bc8",
   "metadata": {},
   "outputs": [],
   "source": [
    "# set : consists a set of unique elements(either int / float / string /..) can be chanagable.\n",
    "#       \"Mutable but allows unique elements only\"\n",
    "#        x = (), x = set()"
   ]
  },
  {
   "cell_type": "code",
   "execution_count": 7,
   "id": "9b769621",
   "metadata": {},
   "outputs": [],
   "source": [
    "# list : mutable(changable), allows any data type elements and allows duplicates also."
   ]
  },
  {
   "cell_type": "code",
   "execution_count": 8,
   "id": "bab03210",
   "metadata": {},
   "outputs": [],
   "source": [
    "# string and Tuple : both are immutable but allows duplicate elements\n",
    "#                    string allows unique elements only but tuple allows any data type elements\n"
   ]
  },
  {
   "cell_type": "code",
   "execution_count": null,
   "id": "79f18dfd",
   "metadata": {},
   "outputs": [],
   "source": []
  },
  {
   "cell_type": "code",
   "execution_count": null,
   "id": "9e21a9e4",
   "metadata": {},
   "outputs": [],
   "source": []
  },
  {
   "cell_type": "code",
   "execution_count": 32,
   "id": "2ad85108",
   "metadata": {},
   "outputs": [],
   "source": [
    "# skill group - 1:\n",
    "# Iterate over the key and value pairs of a dictionary using a for loop with the \"dictionary.items()\"\" method \n",
    "# to \"calculate the sum of the values in a dictionary\".\n",
    "\n",
    "def sum_of_values(input):\n",
    "    s = 0\n",
    "    for x,y in input.items():\n",
    "        s = s + y\n",
    "        \n",
    "    print(s)\n",
    "            \n",
    "        \n",
    "    "
   ]
  },
  {
   "cell_type": "code",
   "execution_count": 33,
   "id": "d8b5f188",
   "metadata": {},
   "outputs": [
    {
     "name": "stdout",
     "output_type": "stream",
     "text": [
      "11\n"
     ]
    }
   ],
   "source": [
    "sum_of_values({\"dogs\":2, \"cats\":4, \"rats\":5})"
   ]
  },
  {
   "cell_type": "code",
   "execution_count": 36,
   "id": "9590ed48",
   "metadata": {},
   "outputs": [
    {
     "name": "stdout",
     "output_type": "stream",
     "text": [
      "20.19\n"
     ]
    }
   ],
   "source": [
    "# or : using dictionary methods\n",
    "\n",
    "def sum_server_use_time(Server):\n",
    "    total_use_time = 0.0\n",
    "    \n",
    "    for key,value in Server.items():\n",
    "        total_use_time += Server[key]\n",
    "    return round(total_use_time, 2)   # Round the return value and limit to 2 decimal places\n",
    "\n",
    "FileServer = {\"EndUser1\": 2.25, \"EndUser2\": 4.5, \"EndUser3\": 1, \"EndUser4\": 3.75, \"EndUser5\": 0.69, \"EndUser6\": 8}\n",
    "print(sum_server_use_time(FileServer))\n",
    "    \n",
    "        "
   ]
  },
  {
   "cell_type": "code",
   "execution_count": 18,
   "id": "27bd650f",
   "metadata": {},
   "outputs": [
    {
     "name": "stdout",
     "output_type": "stream",
     "text": [
      "['sandhya polana', 'spandana polana', 'roja polana', 'vamsi sesham', 'sai sesham', 'prakash ummaleti', 'anusha ummaleti']\n"
     ]
    }
   ],
   "source": [
    "# skill group -2:\n",
    "\n",
    "#  \"Concatenate\" a value or a string, and the key for each item in the dictionary and \"append\" to the \"end of a new list[]\"\" using the \"list.append(x)\" method.  \n",
    "# Iterate over keys with multiple values from a dictionary using \"nested for loops\" with the \"dictionary.items()\" method.\n",
    "\n",
    "def list_full_names(input):\n",
    "    s = []\n",
    "    for l_name,f_name in input.items():\n",
    "        for x in f_name:\n",
    "            s.append(x +\" \"+ l_name)\n",
    "    return s\n",
    "            \n",
    "           \n",
    "print(list_full_names({\"polana\": [\"sandhya\", \"spandana\", \"roja\"], \"sesham\": [\"vamsi\", \"sai\"], \"ummaleti\": [\"prakash\", \"anusha\"]}))\n"
   ]
  },
  {
   "cell_type": "code",
   "execution_count": null,
   "id": "97b4c978",
   "metadata": {},
   "outputs": [],
   "source": []
  },
  {
   "cell_type": "code",
   "execution_count": 22,
   "id": "abd82690",
   "metadata": {},
   "outputs": [
    {
     "name": "stdout",
     "output_type": "stream",
     "text": [
      "{'IDE HDDs': ['Hard Drives', 'PC Parts'], 'SCSI HDDs': ['Hard Drives', 'PC Parts'], 'High-end video cards': ['PC Parts', 'Video Cards'], 'Basic video cards': ['PC Parts', 'Video Cards']}\n"
     ]
    }
   ],
   "source": [
    "# Skill Group - 3:  \n",
    "\n",
    "# Use the dictionary[key] = value operation to associate a value with a key in a dictionary.   \n",
    "# Iterate over keys with multiple values from a dictionary, using nested for loops and an if-statement, and the dictionary.items() method.\n",
    "# Use the dictionary[key].append(value) method to add the key, a string, and the key for each item in the dictionary.\n",
    "\n",
    "def invert_resource_dict(input):\n",
    "    s = {}  \n",
    "    for key,values in input.items():\n",
    "        for x in values:\n",
    "            if x in s:\n",
    "                s[x].append(key)   \n",
    "            else:\n",
    "                s[x] = [key]\n",
    "    return s\n",
    "           \n",
    "    \n",
    "print(invert_resource_dict({\"Hard Drives\": [\"IDE HDDs\", \"SCSI HDDs\"],\"PC Parts\": [\"IDE HDDs\", \"SCSI HDDs\", \"High-end video cards\", \"Basic video cards\"], \"Video Cards\": [\"High-end video cards\", \"Basic video cards\"]}))\n",
    "# Should print {'IDE HDDs': ['Hard Drives', 'PC Parts'], 'SCSI HDDs': ['Hard Drives', 'PC Parts'], 'High-end video cards': ['PC Parts', 'Video Cards'], 'Basic video cards': ['PC Parts', 'Video Cards']}\n"
   ]
  },
  {
   "cell_type": "code",
   "execution_count": 26,
   "id": "13d89c9e",
   "metadata": {},
   "outputs": [
    {
     "name": "stdout",
     "output_type": "stream",
     "text": [
      "{'admin': ['local', 'public', 'administrator'], 'userA': ['local'], 'userB': ['public']}\n"
     ]
    }
   ],
   "source": [
    "# test -1\n",
    "# real world example:  \n",
    "\n",
    "# The groups_per_user function receives a dictionary, which contains group names with the list of users. \n",
    "# Users can belong to multiple groups. \n",
    "# Fill in the blanks to return a dictionary with the users as keys and a list of their groups as values.\n",
    "\n",
    "def groups_per_user(group_dictionary):\n",
    "\tuser_groups = {}\n",
    "\t# Go through group_dictionary\n",
    "\tfor group_name,users in group_dictionary.items():\n",
    "\t\t# Now go through the users in the group\n",
    "\t\tfor x in users:\n",
    "\t\t\tif x in user_groups:\n",
    "\t\t\t\tuser_groups[x].append(group_name)\n",
    "\t\t\telse:\n",
    "\t\t\t\tuser_groups[x] = [group_name]\n",
    "    \n",
    "\treturn(user_groups)\n",
    "\n",
    "print(groups_per_user({\"local\": [\"admin\", \"userA\"],\n",
    "\t\t\"public\":  [\"admin\", \"userB\"],\n",
    "\t\t\"administrator\": [\"admin\"] }))"
   ]
  },
  {
   "cell_type": "code",
   "execution_count": null,
   "id": "5b1e9985",
   "metadata": {},
   "outputs": [],
   "source": []
  },
  {
   "cell_type": "code",
   "execution_count": 23,
   "id": "b0761e25",
   "metadata": {},
   "outputs": [],
   "source": [
    "# test:2"
   ]
  },
  {
   "cell_type": "code",
   "execution_count": 24,
   "id": "18d2bd61",
   "metadata": {},
   "outputs": [
    {
     "name": "stdout",
     "output_type": "stream",
     "text": [
      "['clark.kent@gmail.com', 'diana.prince@gmail.com', 'peter.parker@gmail.com', 'barbara.gordon@yahoo.com', 'jean.grey@yahoo.com', 'bruce.wayne@hotmail.com']\n"
     ]
    }
   ],
   "source": [
    "# The email_list function receives a dictionary, which contains domain names as keys, and a list of users as values. \n",
    "# Fill in the blanks to generate a list that contains complete email addresses (e.g. diana.prince@gmail.com).\n",
    "\n",
    "def email_list(domains):\n",
    "\temails = []\n",
    "\tfor key,users in domains.items():\n",
    "\t  for user in users:\n",
    "\t    emails.append(user + \"@\" + key)\n",
    "\treturn(emails)\n",
    "\n",
    "print(email_list({\"gmail.com\": [\"clark.kent\", \"diana.prince\", \"peter.parker\"], \"yahoo.com\": [\"barbara.gordon\", \"jean.grey\"], \"hotmail.com\": [\"bruce.wayne\"]}))"
   ]
  },
  {
   "cell_type": "code",
   "execution_count": null,
   "id": "69b76ad8",
   "metadata": {},
   "outputs": [],
   "source": []
  },
  {
   "cell_type": "code",
   "execution_count": 27,
   "id": "a1b8c2ca",
   "metadata": {},
   "outputs": [
    {
     "name": "stdout",
     "output_type": "stream",
     "text": [
      "28.44\n"
     ]
    }
   ],
   "source": [
    "# test -3:\n",
    "\n",
    "# The add_prices function returns the total price of all of the groceries in the  dictionary. \n",
    "# Fill in the blanks to complete this function.\n",
    "\n",
    "def add_prices(basket):\n",
    "    total = 0\n",
    "    for fruit,price in basket.items():\n",
    "        total += price\n",
    "    return round(total, 2)  # Limit the return value to 2 decimal places\n",
    "groceries = {\"bananas\": 1.56, \"apples\": 2.50, \"oranges\": 0.99, \"bread\": 4.59, \"coffee\": 6.99, \"milk\": 3.39, \"eggs\": 2.98, \"cheese\": 5.44}\n",
    "\n",
    "print(add_prices(groceries))"
   ]
  },
  {
   "cell_type": "code",
   "execution_count": null,
   "id": "40ade98c",
   "metadata": {},
   "outputs": [],
   "source": []
  }
 ],
 "metadata": {
  "kernelspec": {
   "display_name": "Python 3 (ipykernel)",
   "language": "python",
   "name": "python3"
  },
  "language_info": {
   "codemirror_mode": {
    "name": "ipython",
    "version": 3
   },
   "file_extension": ".py",
   "mimetype": "text/x-python",
   "name": "python",
   "nbconvert_exporter": "python",
   "pygments_lexer": "ipython3",
   "version": "3.11.4"
  }
 },
 "nbformat": 4,
 "nbformat_minor": 5
}
