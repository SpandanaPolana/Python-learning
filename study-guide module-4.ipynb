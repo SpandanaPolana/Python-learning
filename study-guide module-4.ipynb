{
 "cells": [
  {
   "cell_type": "code",
   "execution_count": 1,
   "id": "3147c9f8",
   "metadata": {},
   "outputs": [],
   "source": [
    "# Coding skills in strings, lists, tuples and dictionaries"
   ]
  },
  {
   "cell_type": "code",
   "execution_count": 2,
   "id": "a29fa3cd",
   "metadata": {},
   "outputs": [],
   "source": [
    "# Skill 1: Using string methods\n",
    "  \n",
    "# Separate numerical values from text values in a string using .split(). \n",
    "\n",
    "# Iterate over the elements in a string.\n",
    "\n",
    "# Test if the element contains letters with .isalpha().\n",
    "\n",
    "# Assign the elements of the split string to new variables.\n",
    "\n",
    "# Trim any extra white space using .strip().\n",
    "\n",
    "# Format a string using .format() and { } variable placeholders"
   ]
  },
  {
   "cell_type": "code",
   "execution_count": 4,
   "id": "496006ce",
   "metadata": {},
   "outputs": [
    {
     "name": "stdout",
     "output_type": "stream",
     "text": [
      "The sale price of Winter fleece jackets is  49$\n"
     ]
    }
   ],
   "source": [
    "# 1 Ans:\n",
    "\n",
    "def string_code(input):\n",
    "    s = input.split()     # ----> \"winter\"s(0)  \"fleece\"s(1)  \"jackets\"s(2)  \"49\"s(3)\n",
    "    item = \" \"\n",
    "    price = \" \" \n",
    "    for x in s:\n",
    "        if x.isalpha():\n",
    "            item = item + x + \" \"\n",
    "        else:\n",
    "            price += x\n",
    "    item = item.strip()\n",
    "    print(\"The sale price of {} is {}$\".format(item,price))\n",
    "    \n",
    "    \n",
    "string_code(\"Winter fleece jackets 49\")\n",
    "            "
   ]
  },
  {
   "cell_type": "code",
   "execution_count": null,
   "id": "3fe78e29",
   "metadata": {},
   "outputs": [],
   "source": []
  },
  {
   "cell_type": "code",
   "execution_count": 5,
   "id": "91b61085",
   "metadata": {},
   "outputs": [
    {
     "name": "stdout",
     "output_type": "stream",
     "text": [
      "[1989, 1992, 1997, 2001, 2006, 2011, 2018, 2022]\n"
     ]
    }
   ],
   "source": [
    "# Skill 2: Using list methods\n",
    "\n",
    "# Reverse the order of a list using the .reverse() method.\n",
    "# Combine two lists using the .extend() method.\n",
    "\n",
    "def record_profit_years(recent_first, recent_last):\n",
    "    recent_first.reverse()\n",
    "    recent_last.extend(recent_first)\n",
    "    return recent_last\n",
    "\n",
    "\n",
    "recent_first = [2022, 2018, 2011, 2006]\n",
    "recent_last = [1989, 1992, 1997, 2001]\n",
    "print(record_profit_years(recent_first, recent_last))"
   ]
  },
  {
   "cell_type": "code",
   "execution_count": null,
   "id": "5caa652f",
   "metadata": {},
   "outputs": [],
   "source": []
  },
  {
   "cell_type": "code",
   "execution_count": 7,
   "id": "6890c424",
   "metadata": {},
   "outputs": [
    {
     "name": "stdout",
     "output_type": "stream",
     "text": [
      "[1, 3, 5, 7, 9]\n"
     ]
    }
   ],
   "source": [
    "# Skill 3: Using a list comprehension\n",
    "\n",
    "# Use a list comprehension [ ] with a for loop and an if condition. \n",
    "\n",
    "def odd_numbers(x, y):\n",
    "    return [n for n in range(x, y) if n % 2 != 0]\n",
    "\n",
    "\n",
    "print(odd_numbers(1, 10)) "
   ]
  },
  {
   "cell_type": "code",
   "execution_count": null,
   "id": "b4fc6c09",
   "metadata": {},
   "outputs": [],
   "source": []
  },
  {
   "cell_type": "code",
   "execution_count": 12,
   "id": "0ea2b30a",
   "metadata": {},
   "outputs": [
    {
     "name": "stdout",
     "output_type": "stream",
     "text": [
      "The IP address of the Domain Name Server server is 8.8.8.8\n",
      "The IP address of the Gateway Server server is 192.168.1.1\n",
      "The IP address of the Print Server server is 192.168.1.33\n",
      "The IP address of the Mail Server server is 192.168.1.190\n",
      "\n"
     ]
    }
   ],
   "source": [
    "# Skill 4: Using dictionary methods\n",
    "\n",
    "# Iterate through the keys and values of a dictionary.\n",
    "# Return the keys and values in a formatted string using the .format() function.\n",
    "\n",
    "def network(servers):\n",
    "    result = \"\"\n",
    "    \n",
    "    for hostname, IP_address in servers.items():\n",
    "        result += \"The IP address of the {} server is {}\".format(hostname, IP_address) + \"\\n\"\n",
    "    return result\n",
    "\n",
    "\n",
    "print(network({\"Domain Name Server\":\"8.8.8.8\", \"Gateway Server\":\"192.168.1.1\", \"Print Server\":\"192.168.1.33\", \"Mail Server\":\"192.168.1.190\"}))\n"
   ]
  },
  {
   "cell_type": "code",
   "execution_count": null,
   "id": "1281e712",
   "metadata": {},
   "outputs": [],
   "source": []
  },
  {
   "cell_type": "code",
   "execution_count": 17,
   "id": "ce85dc25",
   "metadata": {},
   "outputs": [
    {
     "name": "stdout",
     "output_type": "stream",
     "text": [
      "{'apple': 0, 'banana': 0, 'karrot': 0, 'trauben': 0}\n"
     ]
    }
   ],
   "source": [
    "# Create a copy of a dictionary.\n",
    "\n",
    "# Iterate through the values of the new dictionary.\n",
    "\n",
    "# Change each value in the new dictionary, while keeping the same keys. \n",
    "\n",
    "def change_values(input):\n",
    "    d1 = input.copy()\n",
    "    \n",
    "    for key,value in d1.items():\n",
    "        d1[key] = 0\n",
    "    return d1\n",
    "        \n",
    "        \n",
    "    \n",
    "print(change_values({\"apple\":4,\"banana\":6,\"karrot\":8,\"trauben\":10}))\n",
    "    "
   ]
  },
  {
   "cell_type": "code",
   "execution_count": null,
   "id": "a7174474",
   "metadata": {},
   "outputs": [],
   "source": []
  }
 ],
 "metadata": {
  "kernelspec": {
   "display_name": "Python 3 (ipykernel)",
   "language": "python",
   "name": "python3"
  },
  "language_info": {
   "codemirror_mode": {
    "name": "ipython",
    "version": 3
   },
   "file_extension": ".py",
   "mimetype": "text/x-python",
   "name": "python",
   "nbconvert_exporter": "python",
   "pygments_lexer": "ipython3",
   "version": "3.11.4"
  }
 },
 "nbformat": 4,
 "nbformat_minor": 5
}
