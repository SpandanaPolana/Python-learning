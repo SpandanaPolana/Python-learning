{
 "cells": [
  {
   "cell_type": "code",
   "execution_count": 5,
   "id": "cb62da91",
   "metadata": {},
   "outputs": [],
   "source": [
    "# conditional statements"
   ]
  },
  {
   "cell_type": "code",
   "execution_count": 13,
   "id": "16ad30b6",
   "metadata": {},
   "outputs": [
    {
     "name": "stdout",
     "output_type": "stream",
     "text": [
      "True\n",
      "False\n",
      "True\n"
     ]
    }
   ],
   "source": [
    "print(9 > 1)\n",
    " \n",
    "print(\"a\" == \"b\")\n",
    "\n",
    "print(1==2 or 2==2)"
   ]
  },
  {
   "cell_type": "code",
   "execution_count": 14,
   "id": "d38addad",
   "metadata": {},
   "outputs": [
    {
     "ename": "TypeError",
     "evalue": "'<' not supported between instances of 'int' and 'str'",
     "output_type": "error",
     "traceback": [
      "\u001b[1;31m---------------------------------------------------------------------------\u001b[0m",
      "\u001b[1;31mTypeError\u001b[0m                                 Traceback (most recent call last)",
      "Cell \u001b[1;32mIn[14], line 1\u001b[0m\n\u001b[1;32m----> 1\u001b[0m \u001b[38;5;28mprint\u001b[39m(\u001b[38;5;241m1\u001b[39m \u001b[38;5;241m<\u001b[39m \u001b[38;5;124m\"\u001b[39m\u001b[38;5;124m1\u001b[39m\u001b[38;5;124m\"\u001b[39m)\n",
      "\u001b[1;31mTypeError\u001b[0m: '<' not supported between instances of 'int' and 'str'"
     ]
    }
   ],
   "source": [
    "print(1 < \"1\")"
   ]
  },
  {
   "cell_type": "code",
   "execution_count": 17,
   "id": "6ca3a5fb",
   "metadata": {},
   "outputs": [
    {
     "name": "stdout",
     "output_type": "stream",
     "text": [
      "True\n"
     ]
    }
   ],
   "source": [
    "# Logical operators: and, or, not\n",
    "# not: If the expression is 'true' it becomes 'false' likewise if the expression is 'false' it becomes 'true'\n",
    "\n",
    "print(not 90 > 94)\n"
   ]
  },
  {
   "cell_type": "code",
   "execution_count": 4,
   "id": "8c2f0f7c",
   "metadata": {},
   "outputs": [],
   "source": [
    "# difference b/w equal to(=) and Equality operator(==):\n",
    "# The equals = operator assigns the value on the right side of the equals = to the object (e.g., a variable) on the left side of the equals = operator.\n",
    "# The == equality comparison operator checks if the values of the two expressions on either side of the == operator are equivalent to one  another"
   ]
  },
  {
   "cell_type": "code",
   "execution_count": 4,
   "id": "4827f367",
   "metadata": {},
   "outputs": [
    {
     "name": "stdout",
     "output_type": "stream",
     "text": [
      "True\n",
      "True\n",
      "False\n",
      "True\n"
     ]
    }
   ],
   "source": [
    "a = 5\n",
    "print(a == 5)\n",
    "print(9 != 10)\n",
    "print(not 9 == 9)\n",
    "print(90 <= 94)  # if either one condition satisfies it prints True(con1:90<94 and con2:90=94)"
   ]
  },
  {
   "cell_type": "code",
   "execution_count": 2,
   "id": "796f732a",
   "metadata": {},
   "outputs": [
    {
     "name": "stdout",
     "output_type": "stream",
     "text": [
      "False\n",
      "False\n"
     ]
    }
   ],
   "source": [
    "# Equality operator\n",
    "\n",
    "#Since the left data type is a string and the right data type is an integer, the two values cannot be equal.\n",
    "# So, the comparison returns a 'False' result\n",
    "\n",
    "print(\"three\" == 3)\n",
    "print(\"90\" == 90)"
   ]
  },
  {
   "cell_type": "code",
   "execution_count": 6,
   "id": "ddf8b7f9",
   "metadata": {},
   "outputs": [],
   "source": [
    "# ASCII codes of cpital (A-Z):(65-90)  and small (a-z):(97-122)\n",
    "# The letters of the alphabet have numeric codes in Unicode (also known as ASCII values)."
   ]
  },
  {
   "cell_type": "code",
   "execution_count": 7,
   "id": "fb1174e5",
   "metadata": {},
   "outputs": [
    {
     "name": "stdout",
     "output_type": "stream",
     "text": [
      "True\n"
     ]
    }
   ],
   "source": [
    "# > and < comparisions of 2 strings using their ASCII codes\n",
    "\n",
    "print(\"Spandana\" < \"Vamsi\")"
   ]
  },
  {
   "cell_type": "code",
   "execution_count": 18,
   "id": "c1eecd57",
   "metadata": {},
   "outputs": [
    {
     "name": "stdout",
     "output_type": "stream",
     "text": [
      "Is \"Winter\" is greater than or eual to \"Spring\":  True\n"
     ]
    }
   ],
   "source": [
    "# checking strings with >= or <= using by their ASCII codes\n",
    "\n",
    "var = \"Winter\" >= \"Spring\"\n",
    "print(\"Is \\\"Winter\\\" is greater than or eual to \\\"Spring\\\": \",var)   # in this print output it prints \"\"(double quotes) for specific strings(\"Spring\",\"Winter\") inside the full string print o/p: see carefully"
   ]
  },
  {
   "cell_type": "code",
   "execution_count": 1,
   "id": "4c19e2ac",
   "metadata": {},
   "outputs": [],
   "source": [
    "# Return statement: when one's a return statement is executed in the function then the function exists,so that the code that follows doesn't get executed.\n",
    "# this technique is only allowed when you write a code inside the if statement.\n",
    "\n",
    "\n",
    "# ***** The company doesn't include numbers in the username and the username must be characters within 3 to 15 characters*****\n",
    "\n",
    "def is_valid_username(username):\n",
    "    if len(username) < 3:\n",
    "        print(\"The username must has \\\"at least 3\\\" charcters\")\n",
    "    elif len(username) > 15:\n",
    "        print(\"The username must has \\\"at most 15\\\" characters\")\n",
    "    elif any(char.isdigit() for char in username):                           # important step see carefully\n",
    "        print (\"Don't include numbers in username only include characters \")    \n",
    "    else:\n",
    "        return \"Valid username\"\n",
    "    \n"
   ]
  },
  {
   "cell_type": "code",
   "execution_count": 2,
   "id": "95dc02f5",
   "metadata": {},
   "outputs": [
    {
     "name": "stdout",
     "output_type": "stream",
     "text": [
      "Don't include numbers in username only include characters \n"
     ]
    }
   ],
   "source": [
    "is_valid_username(\"spandana 2904\")"
   ]
  },
  {
   "cell_type": "code",
   "execution_count": 56,
   "id": "c483141d",
   "metadata": {},
   "outputs": [],
   "source": [
    "# Use a function with the def() keyword\n",
    "\n",
    "# Pass two parameters to the function\n",
    "\n",
    "# Use an if-elif-else statement\n",
    "\n",
    "# Assign strings to variables \n",
    "\n",
    "# Use conditional operators\n",
    "\n",
    "# Return a value.          # ** Using .lower() ensures that the comparison is case-insensitive.****\n",
    "                           # It converts the input string to lowercase before comparing it with the lowercase strings in the conditions.\n",
    "                           # This is helpful because it allows the function to handle inputs like \"Monday\", \"monday\", \"MONDAY\", etc., all in the same way, considering them as the same day of the week.\n",
    "\n",
    "def check_library_timings(time,day):\n",
    "    \n",
    "    if (time >= 8 and time <= 22) and day.lower() in[\"monday\" or \"tueday\" or \"wednesday\" or \"thursday\" or \"friday\"] :\n",
    "        result = \"Library open\"\n",
    "        \n",
    "    elif (time >= 8 and time <= 17) and day.lower() == \"saturday\":\n",
    "        result = \"Library open\"\n",
    "        \n",
    "    elif time < 8 and day.lower() != \"sunday\":\n",
    "        result = \"Library opens on 8 am\"\n",
    "        \n",
    "    elif (time > 17 and day.lower() == \"saturday\") or ( time > 22 and day.lower() in [\"monday\" or \"tueday\" or \"wednesday\" or \"thursday\" or \"friday\"]):\n",
    "        result = \"Library closes at 22pm on mon-fri and 17pm on saturdays\"\n",
    "        \n",
    "    else:\n",
    "        result = \"Library closes on sundays\"\n",
    "        \n",
    "    return result\n",
    "        "
   ]
  },
  {
   "cell_type": "code",
   "execution_count": 57,
   "id": "00b1ccda",
   "metadata": {},
   "outputs": [
    {
     "data": {
      "text/plain": [
       "'Library open'"
      ]
     },
     "execution_count": 57,
     "metadata": {},
     "output_type": "execute_result"
    }
   ],
   "source": [
    "check_library_timings(9,\"monday\")"
   ]
  },
  {
   "cell_type": "code",
   "execution_count": 1,
   "id": "bf97f7d1",
   "metadata": {},
   "outputs": [],
   "source": [
    "# Use an if statement to calculate a return value\n",
    "# Use conditional operators\n",
    "# Recall the arithmetic operators // and %\n",
    "\n",
    "#  the answer i wrote this above asking points is \"Round-up of an number\":\n",
    "\n",
    "def round_up(number):                       # ex:number = 22\n",
    "    i = 10\n",
    "    whole_number = number // i              # ex: 24 / 10 = 2\n",
    "    remainder = number % i                  # ex: 24 % 10 = 4\n",
    "    if remainder >= 5:\n",
    "         result = i * (whole_number + 1)   # ex: 10 * (2+1) = 30 \n",
    "    else:\n",
    "        result = i * whole_number           \n",
    "    return result\n",
    "        "
   ]
  },
  {
   "cell_type": "code",
   "execution_count": 2,
   "id": "e6998a95",
   "metadata": {},
   "outputs": [
    {
     "name": "stdout",
     "output_type": "stream",
     "text": [
      "90\n"
     ]
    },
    {
     "data": {
      "text/plain": [
       "100"
      ]
     },
     "execution_count": 2,
     "metadata": {},
     "output_type": "execute_result"
    }
   ],
   "source": [
    "print(round_up(94))\n",
    "round_up(95)     "
   ]
  },
  {
   "cell_type": "code",
   "execution_count": 98,
   "id": "116f4bd2",
   "metadata": {},
   "outputs": [],
   "source": [
    "# If a filesystem has a block size of 4096 bytes, this means that a file comprised of only one byte will still use 4096 bytes of storage. \n",
    "# A file made up of 4097 bytes will use 4096*2=8192 bytes of storage.likewise file size is 9000 will use 4096*3 = 12288 bytes of storage.\n",
    "# Knowing this, can you fill in the gaps in the calculate_storage function below, which calculates the total number of bytes \n",
    "# needed to store a file of a given size?\n",
    "\n",
    "def calculate_storage(filesize):\n",
    "    block_size = 4096                                                      # for ex: filesize = 1\n",
    "    # Use floor division to calculate how many blocks are fully occupied\n",
    "    full_blocks = filesize // block_size                                   # for ex: full_blocks = (1 // 4096)  = 0\n",
    "    # Use the modulo operator to check whether there's any remainder\n",
    "    partial_block_remainder = filesize % block_size                        # for ex: partial_block_remainder = (1 % 4096) =1\n",
    "    # Depending on whether there's a remainder or not, return the total number of bytes required to allocate enough blocks to store your data.\n",
    "    if partial_block_remainder > 0:\n",
    "        return block_size*(full_blocks+1)                                  # for ex: 4096*(0+1) = 4096*1 = 4096\n",
    "    return full_blocks*block_size"
   ]
  },
  {
   "cell_type": "code",
   "execution_count": 99,
   "id": "5f22b964",
   "metadata": {},
   "outputs": [
    {
     "name": "stdout",
     "output_type": "stream",
     "text": [
      "4096\n",
      "4096\n",
      "8192\n",
      "8192\n"
     ]
    }
   ],
   "source": [
    "print(calculate_storage(1))\n",
    "print(calculate_storage(4096))\n",
    "print(calculate_storage(4097))\n",
    "print(calculate_storage(6000))"
   ]
  },
  {
   "cell_type": "code",
   "execution_count": 7,
   "id": "54daf0df",
   "metadata": {},
   "outputs": [
    {
     "name": "stdout",
     "output_type": "stream",
     "text": [
      "Aufstehen order Aufwachen,Gehen,Fru``hstu``k,Arbeiten\n"
     ]
    }
   ],
   "source": [
    "# Use a function with the def() keyword\n",
    "\n",
    "# Pass a parameter to the function\n",
    "\n",
    "# Use an if-elif-else block to set specific conditions for a variety of actions\n",
    "\n",
    "# Assign strings to variables \n",
    "\n",
    "# Use comparison operators\n",
    "\n",
    "# Return a value\n",
    "\n",
    "# Call the function in a print statement and pass parameter to the function\n",
    "\n",
    "def tasks_timings(time):\n",
    "    if time <=7 and time <12:\n",
    "        result = \"Aufstehen order Aufwachen,Gehen,Fru``hstu``k,Arbeiten\"\n",
    "    elif time >= 12 and time <=2:\n",
    "        result = \"Mahlzeit order Mittagessen\"\n",
    "    elif time >2 and time <=10:\n",
    "        result = \"Arbeit und Abendessen\"\n",
    "    else:\n",
    "        result = \"Schlafen\"\n",
    "    return result\n",
    "\n",
    "print(tasks_timings(7))"
   ]
  },
  {
   "cell_type": "code",
   "execution_count": null,
   "id": "d88cede0",
   "metadata": {},
   "outputs": [],
   "source": []
  },
  {
   "cell_type": "code",
   "execution_count": null,
   "id": "870ade2b",
   "metadata": {},
   "outputs": [],
   "source": []
  }
 ],
 "metadata": {
  "kernelspec": {
   "display_name": "Python 3 (ipykernel)",
   "language": "python",
   "name": "python3"
  },
  "language_info": {
   "codemirror_mode": {
    "name": "ipython",
    "version": 3
   },
   "file_extension": ".py",
   "mimetype": "text/x-python",
   "name": "python",
   "nbconvert_exporter": "python",
   "pygments_lexer": "ipython3",
   "version": "3.11.4"
  }
 },
 "nbformat": 4,
 "nbformat_minor": 5
}
