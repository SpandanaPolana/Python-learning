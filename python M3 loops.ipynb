{
 "cells": [
  {
   "cell_type": "code",
   "execution_count": null,
   "id": "3bafa062",
   "metadata": {},
   "outputs": [],
   "source": [
    "# Loops"
   ]
  },
  {
   "cell_type": "code",
   "execution_count": null,
   "id": "e2555dd5",
   "metadata": {},
   "outputs": [],
   "source": []
  },
  {
   "cell_type": "code",
   "execution_count": 1,
   "id": "a2134c9b",
   "metadata": {},
   "outputs": [],
   "source": [
    "# 1. While loop: continiously executes your code/set of instructions based on value of condition is True ((or) it executes the code until the condition false)\n",
    "\n",
    "def while_loop(n): \n",
    "    i = 0\n",
    "    while i <= n:                        \n",
    "        print(\"value of i : \" ,str(i))\n",
    "        i += 1      # i = i + 1\n",
    "    print(\"present value of i : \",str(i))"
   ]
  },
  {
   "cell_type": "code",
   "execution_count": 2,
   "id": "b62d5859",
   "metadata": {},
   "outputs": [
    {
     "name": "stdout",
     "output_type": "stream",
     "text": [
      "value of i :  0\n",
      "value of i :  1\n",
      "value of i :  2\n",
      "value of i :  3\n",
      "value of i :  4\n",
      "value of i :  5\n",
      "present value of i :  6\n"
     ]
    }
   ],
   "source": [
    "while_loop(5)"
   ]
  },
  {
   "cell_type": "code",
   "execution_count": 36,
   "id": "a460f002",
   "metadata": {},
   "outputs": [],
   "source": [
    "# print 5 to 20 using while loop\n",
    "                                                                    # \"or\"\n",
    "def while_loop(i):                                                  # def while_loop(n):\n",
    "    while i > 4 and i < 21:                                         #     i = 5\n",
    "        print(\"values b/w 5 and 20 are : \" ,str(i))                 #     while i <= n\n",
    "        i = i+1                                                     #         print(\"values b/w 5 to 20 are :\" i)\n",
    "    print(\"Done\")                                                   #         i = i+1"
   ]
  },
  {
   "cell_type": "code",
   "execution_count": 37,
   "id": "6c4a4c4d",
   "metadata": {},
   "outputs": [
    {
     "name": "stdout",
     "output_type": "stream",
     "text": [
      "values b/w 5 and 20 are :  5\n",
      "values b/w 5 and 20 are :  6\n",
      "values b/w 5 and 20 are :  7\n",
      "values b/w 5 and 20 are :  8\n",
      "values b/w 5 and 20 are :  9\n",
      "values b/w 5 and 20 are :  10\n",
      "values b/w 5 and 20 are :  11\n",
      "values b/w 5 and 20 are :  12\n",
      "values b/w 5 and 20 are :  13\n",
      "values b/w 5 and 20 are :  14\n",
      "values b/w 5 and 20 are :  15\n",
      "values b/w 5 and 20 are :  16\n",
      "values b/w 5 and 20 are :  17\n",
      "values b/w 5 and 20 are :  18\n",
      "values b/w 5 and 20 are :  19\n",
      "values b/w 5 and 20 are :  20\n",
      "Done\n"
     ]
    }
   ],
   "source": [
    "while_loop(5)"
   ]
  },
  {
   "cell_type": "code",
   "execution_count": 24,
   "id": "1457bd8c",
   "metadata": {},
   "outputs": [],
   "source": [
    "# Infinite loop:- Missing a method for exiting the loop, causing the loop to run forever\n",
    "# 1\n",
    "def numbers(start,end):         # This code gives infinite loop  prints  1,1,1,1,.......\n",
    "    n = start\n",
    "    while(n <= end):\n",
    "        print(n)\n",
    "# numbers(1,5)\n",
    "\n",
    "\n",
    "\n",
    "# 2\n",
    "def infinite_loop(n):         # if we give 'n' as 0 it prints infinite loop other than 0 it gives result upto 0 see below\n",
    "    while n % 2 == 0:\n",
    "        n = n/2\n",
    "        print(n)   \n",
    "# infinite_loop(0)"
   ]
  },
  {
   "cell_type": "code",
   "execution_count": 3,
   "id": "bc34d4e0",
   "metadata": {},
   "outputs": [
    {
     "name": "stdout",
     "output_type": "stream",
     "text": [
      "1\n",
      "2\n",
      "3\n",
      "4\n",
      "5\n"
     ]
    }
   ],
   "source": [
    "# 1\n",
    "def numbers(start,end):         # This code modifies above code prints  1,2,3,4,5\n",
    "    n = start\n",
    "    while(n <= end):\n",
    "        print(n)\n",
    "        n = n+1\n",
    "numbers(1,5)"
   ]
  },
  {
   "cell_type": "code",
   "execution_count": 30,
   "id": "06114ee3",
   "metadata": {},
   "outputs": [],
   "source": [
    "# 2 \n",
    "# Initialize a variable\n",
    "# Use a while loop that runs while a specific condition is true\n",
    "# Ensure the while loop will not be an infinite loop\n",
    "# Increment a value within a while loop\n",
    "# in this code we put a condition that i/p doesnt take n as 0 to avoid infinite loop\n",
    "\n",
    "def infinite_loop(n):                     \n",
    "    while n!= 0 and n % 2 == 0:\n",
    "        n = n/2\n",
    "        print(n)\n",
    "    "
   ]
  },
  {
   "cell_type": "code",
   "execution_count": 31,
   "id": "bfe75ece",
   "metadata": {},
   "outputs": [
    {
     "name": "stdout",
     "output_type": "stream",
     "text": [
      "4.0\n",
      "2.0\n",
      "1.0\n"
     ]
    }
   ],
   "source": [
    "infinite_loop(8)"
   ]
  },
  {
   "cell_type": "code",
   "execution_count": 20,
   "id": "4f1ddd7e",
   "metadata": {},
   "outputs": [],
   "source": [
    "# multiplier of any number upto 20 times\n",
    "\n",
    "def multiplier(n):\n",
    "    x = 1\n",
    "    while x <= 20:\n",
    "        print(str(x),\"*\",str(n),\"=\",str(x * n))\n",
    "        x += 1\n",
    "    print(\"done\")\n",
    "    "
   ]
  },
  {
   "cell_type": "code",
   "execution_count": 21,
   "id": "5090c646",
   "metadata": {},
   "outputs": [
    {
     "name": "stdout",
     "output_type": "stream",
     "text": [
      "1 * 5 = 5\n",
      "2 * 5 = 10\n",
      "3 * 5 = 15\n",
      "4 * 5 = 20\n",
      "5 * 5 = 25\n",
      "6 * 5 = 30\n",
      "7 * 5 = 35\n",
      "8 * 5 = 40\n",
      "9 * 5 = 45\n",
      "10 * 5 = 50\n",
      "11 * 5 = 55\n",
      "12 * 5 = 60\n",
      "13 * 5 = 65\n",
      "14 * 5 = 70\n",
      "15 * 5 = 75\n",
      "16 * 5 = 80\n",
      "17 * 5 = 85\n",
      "18 * 5 = 90\n",
      "19 * 5 = 95\n",
      "20 * 5 = 100\n",
      "done\n"
     ]
    }
   ],
   "source": [
    "multiplier(5)"
   ]
  },
  {
   "cell_type": "code",
   "execution_count": 29,
   "id": "9c93d4be",
   "metadata": {},
   "outputs": [
    {
     "name": "stdout",
     "output_type": "stream",
     "text": [
      "1 * 5  =  5\n"
     ]
    }
   ],
   "source": [
    "# Break : \n",
    "# A break statement in Python provides a way to exit out of a loop before the loop's condition is false. \n",
    "# Once a break statement is encountered, the program's control flow jumps out of the loop and continues executing the code after the loop.\n",
    "\n",
    "def multiplier(n):\n",
    "    x = 1\n",
    "    while x <= 10:\n",
    "        y = x * n\n",
    "        print(str(x),\"*\", str(n), \" = \", str(y))\n",
    "        x += 1\n",
    "        break       \n",
    "        \n",
    "multiplier(5)\n"
   ]
  },
  {
   "cell_type": "code",
   "execution_count": 46,
   "id": "4676bee4",
   "metadata": {},
   "outputs": [
    {
     "name": "stdout",
     "output_type": "stream",
     "text": [
      "factor : 2\n",
      "factor : 3\n",
      "total factors of a given number are : 2\n"
     ]
    }
   ],
   "source": [
    "# Prime numbers: The numbers divided by 1 and itself\n",
    "# ex: 2,3,5,7,11,13,17,19,23,29,...\n",
    "\n",
    "# prime factors: - Prime numbers are factors of an integer. \n",
    "# The prime factors of an integer \"will not produce a remainder\" when used to divide that integer.\n",
    "# For example, the prime numbers 2 and 5 are the prime factors of the number 10 (2x5=10). and 2 and 7 are prime factors of 14(2*7)\n",
    "  \n",
    "\n",
    "# prime factor example using while loop:\n",
    "\n",
    "def prime_factors(n):\n",
    "    \n",
    "    if n == 0:\n",
    "        return 0\n",
    "    \n",
    "    elif n == 1:\n",
    "        return \" 1 is neither prime nor composite number\"\n",
    "    \n",
    "    x = 2\n",
    "    count = 0\n",
    "    while x < n:\n",
    "        if n % x == 0:\n",
    "            count += 1\n",
    "            print(\"factor : \" + str(x))\n",
    "        x += 1\n",
    "    return \"total factors of a given number are : \"+ str(count)\n",
    "    \n",
    "print(prime_factors(6))    "
   ]
  },
  {
   "cell_type": "code",
   "execution_count": 16,
   "id": "26b159b7",
   "metadata": {},
   "outputs": [
    {
     "name": "stdout",
     "output_type": "stream",
     "text": [
      "5*1=5\n",
      "5*2=10\n",
      "5*3=15\n",
      "5*4=20\n",
      "5*5=25\n",
      "8*1=8\n",
      "8*2=16\n",
      "8*3=24\n"
     ]
    }
   ],
   "source": [
    "# multiplier with conditions using while loop:\n",
    "\n",
    "# The function accepts a variable “number” through its parameters. \n",
    "# This “number” variable should be multiplied by the numbers 1 through 5, \n",
    "# and printed in a format similar to “1x6=6” (“number” x “multiplier” = “result”). \n",
    "# The code should also limit the “result” to not exceed 25.\n",
    "\n",
    "def multiplier(n):\n",
    "    x = 1\n",
    "    while x <= 5:\n",
    "        result = n * x\n",
    "        if result > 25:\n",
    "            break\n",
    "        print(str(n)+\"*\"+str(x)+\"=\"+str(result))\n",
    "        x += 1\n",
    "        \n",
    "        \n",
    "multiplier(5)\n",
    "multiplier(8)\n"
   ]
  },
  {
   "cell_type": "code",
   "execution_count": null,
   "id": "317cca42",
   "metadata": {},
   "outputs": [],
   "source": []
  },
  {
   "cell_type": "code",
   "execution_count": null,
   "id": "987f59e5",
   "metadata": {},
   "outputs": [],
   "source": []
  },
  {
   "cell_type": "code",
   "execution_count": null,
   "id": "a6975e5a",
   "metadata": {},
   "outputs": [],
   "source": []
  },
  {
   "cell_type": "code",
   "execution_count": 3,
   "id": "faa34436",
   "metadata": {},
   "outputs": [],
   "source": [
    "# d/f b/w while loop and for lopp\n",
    "\n",
    "# While : use while loops when you want to \"repeat an action until a condition fail.\"\n",
    "\n",
    "# for : use for loops to \"iterate sequence of elements\""
   ]
  },
  {
   "cell_type": "code",
   "execution_count": 3,
   "id": "ab49f90b",
   "metadata": {},
   "outputs": [],
   "source": [
    "# For loop:"
   ]
  },
  {
   "cell_type": "code",
   "execution_count": 3,
   "id": "5f88b4bd",
   "metadata": {},
   "outputs": [],
   "source": [
    "# Example 1: range(4, 12+1, 2)\n",
    "\n",
    "# This example creates a range that starts at 4 and ends at 12 (without the +1, the range would end at 11). \n",
    "\n",
    "# The third parameter increments the range iteration by 2, as opposed to the default increment of 1. \n",
    "# The  range(4, 12+1, 2) expression would produce the values: 4, 6, 8, 10, 12 \n",
    "\n",
    "\n",
    "\n",
    "# Example 2: range(10, 2-1, -2)\n",
    "\n",
    "# This example creates a range that starts at 10 and ends at 2-1, with a decremental value of -2. \n",
    "# When counting down, to include the value of the end of the range index, use -1 (end of range minus 1).\n",
    "# This range produces the sequence: 10, 8, 6, 4, 2 "
   ]
  },
  {
   "cell_type": "code",
   "execution_count": 15,
   "id": "6cde0776",
   "metadata": {},
   "outputs": [
    {
     "name": "stdout",
     "output_type": "stream",
     "text": [
      "0\n",
      "1\n",
      "2\n",
      "3\n",
      "4\n"
     ]
    }
   ],
   "source": [
    "# print 5 numbers  upto 5 using for loop\n",
    "\n",
    "for x in range(5):   # range(end)---> start = 0, stop = 5, multiple = 1\n",
    "    print(x)\n"
   ]
  },
  {
   "cell_type": "code",
   "execution_count": 1,
   "id": "12d05823",
   "metadata": {},
   "outputs": [
    {
     "name": "stdout",
     "output_type": "stream",
     "text": [
      "1\n",
      "4\n",
      "7\n",
      "10\n"
     ]
    }
   ],
   "source": [
    "# range(start,end,incremental)            \n",
    "                                # incremental by default takes start number and then it performs multiplies of n from after that number when you specify incremental\n",
    "for number in range(1, 11, 3):       # (1,2,3,4,5,6,7,8,9,10)    # multiples of 3 means:3,6,9,12,....\n",
    "    print(number)                    # by default it takes start number(1) as 0'th index for incremental value operation\n"
   ]
  },
  {
   "cell_type": "code",
   "execution_count": 14,
   "id": "a1cb06d1",
   "metadata": {},
   "outputs": [
    {
     "name": "stdout",
     "output_type": "stream",
     "text": [
      "1\n",
      "3\n",
      "5\n",
      "7\n",
      "9\n"
     ]
    }
   ],
   "source": [
    "for number in range(1, 10+1, 2):       # (1,2,3,4,5,6,7,8,9,10)   # incremental values of 2 means:2,4,6,8,...\n",
    "    print(number)                      # by default it takes start number(1) as 0'th index for multiples operation and then normal 1,2,3,..."
   ]
  },
  {
   "cell_type": "code",
   "execution_count": 14,
   "id": "af20ae52",
   "metadata": {},
   "outputs": [
    {
     "name": "stdout",
     "output_type": "stream",
     "text": [
      "Hi! lavanya\n",
      "Hi! baby\n",
      "Hi! nikki\n",
      "Hi! sudha\n"
     ]
    }
   ],
   "source": [
    "# print \"say hello to multiple friends seperately\"\n",
    "\n",
    "friends = [\"lavanya\",\"baby\",\"nikki\",\"sudha\"]\n",
    "for friend in friends:\n",
    "    print(\"Hi!\",str(friend))\n",
    "\n"
   ]
  },
  {
   "cell_type": "code",
   "execution_count": 8,
   "id": "c9063886",
   "metadata": {},
   "outputs": [
    {
     "name": "stdout",
     "output_type": "stream",
     "text": [
      "updation complete: file1\n",
      "updation complete: file2\n",
      "updation complete: file3\n",
      "updation complete: file4\n",
      "updation complete: file5\n"
     ]
    }
   ],
   "source": [
    "folder = [\"file1\",\"file2\",\"file3\",\"file4\",\"file5\"]\n",
    "for x in folder:\n",
    "        print(\"updation complete: \"+ x)\n",
    "        "
   ]
  },
  {
   "cell_type": "code",
   "execution_count": null,
   "id": "15d7e456",
   "metadata": {},
   "outputs": [],
   "source": [
    "# print \"sum\" and \"avg\" of given input values\n",
    "\n",
    "values = [2,3,4,5,6]\n",
    "sum = 0\n",
    "length =0\n",
    "for x in values:\n",
    "    sum += x\n",
    "    length += 1\n",
    "print(\"Given values sum :\"+str(sum)+\" and average : \"+str(sum//length))\n",
    "\n"
   ]
  },
  {
   "cell_type": "code",
   "execution_count": 2,
   "id": "e95364f1",
   "metadata": {},
   "outputs": [
    {
     "name": "stdout",
     "output_type": "stream",
     "text": [
      "2 * 1 = 2\n",
      "2 * 2 = 4\n",
      "2 * 3 = 6\n",
      "2 * 4 = 8\n",
      "2 * 5 = 10\n",
      "2 * 6 = 12\n",
      "2 * 7 = 14\n",
      "2 * 8 = 16\n",
      "2 * 9 = 18\n",
      "2 * 10 = 20\n"
     ]
    }
   ],
   "source": [
    "#  multiplier with conditions using \"for loop\":\n",
    "\n",
    "# The function accepts a variable “number” through its parameters. \n",
    "# This “number” variable should be multiplied by the numbers 1 through 5, \n",
    "# and printed in a format similar to “6x1=6” (“number” x “multiplier” = “result”). \n",
    "\n",
    "def multiplier(n):\n",
    "    for x in range(1,11):\n",
    "        result = n * x\n",
    "        print(str(n),\"*\",str(x),\"=\",str(result))\n",
    "        \n",
    "multiplier(2)\n",
    "        "
   ]
  },
  {
   "cell_type": "code",
   "execution_count": 14,
   "id": "ee3db7b8",
   "metadata": {},
   "outputs": [
    {
     "name": "stdout",
     "output_type": "stream",
     "text": [
      "0 -17.77777777777778\n",
      "10 -12.222222222222221\n",
      "20 -6.666666666666667\n",
      "30 -1.1111111111111112\n",
      "40 4.444444444444445\n",
      "50 10.0\n",
      "60 15.555555555555555\n",
      "70 21.11111111111111\n",
      "80 26.666666666666668\n",
      "90 32.22222222222222\n"
     ]
    }
   ],
   "source": [
    "# print fahrenheit to celsius  using for loop\n",
    "\n",
    "for x in range(0,100,10):\n",
    "    celsius = (x-32)*5/9\n",
    "    print(x,celsius)"
   ]
  },
  {
   "cell_type": "code",
   "execution_count": 7,
   "id": "a454ed0e",
   "metadata": {},
   "outputs": [
    {
     "name": "stdout",
     "output_type": "stream",
     "text": [
      "0 -17.77777777777778\n",
      "1 -17.22222222222222\n",
      "2 -16.666666666666668\n",
      "3 -16.11111111111111\n",
      "4 -15.555555555555555\n",
      "5 -15.0\n",
      "6 -14.444444444444445\n",
      "7 -13.88888888888889\n",
      "8 -13.333333333333334\n",
      "9 -12.777777777777779\n",
      "10 -12.222222222222221\n"
     ]
    }
   ],
   "source": [
    "# print fahrenheit to celsius using while loop:\n",
    "\n",
    "x = 0\n",
    "while x <= 10:\n",
    "    celsius = (x-32)*5/9\n",
    "    print(x,celsius)\n",
    "    x = x+1"
   ]
  },
  {
   "cell_type": "code",
   "execution_count": 11,
   "id": "f74c8d9f",
   "metadata": {},
   "outputs": [
    {
     "name": "stdout",
     "output_type": "stream",
     "text": [
      "0\n",
      "2\n",
      "4\n",
      "6\n",
      "8\n",
      "10\n",
      "12\n",
      "14\n",
      "16\n",
      "18\n",
      "20\n"
     ]
    }
   ],
   "source": [
    "# range(start,stop,step)     # start : default value =0   and  range : default value=1 and stop: no default value\n",
    "\n",
    "for x in range(0,22,2):\n",
    "    print(x)\n",
    "    "
   ]
  },
  {
   "cell_type": "code",
   "execution_count": 10,
   "id": "e6ef2238",
   "metadata": {},
   "outputs": [
    {
     "name": "stdout",
     "output_type": "stream",
     "text": [
      "2\n",
      "1\n",
      "0\n",
      "-1\n"
     ]
    }
   ],
   "source": [
    "for x in range(2,-2,-1):\n",
    "    print(x)"
   ]
  },
  {
   "cell_type": "code",
   "execution_count": null,
   "id": "706ea500",
   "metadata": {},
   "outputs": [],
   "source": []
  },
  {
   "cell_type": "code",
   "execution_count": null,
   "id": "376ca0f2",
   "metadata": {},
   "outputs": [],
   "source": []
  },
  {
   "cell_type": "code",
   "execution_count": 9,
   "id": "e429412b",
   "metadata": {},
   "outputs": [
    {
     "name": "stdout",
     "output_type": "stream",
     "text": [
      "[0|0] [0|1] [0|2] [0|3] [0|4] [0|5] [0|6] \n",
      "[1|1] [1|2] [1|3] [1|4] [1|5] [1|6] \n",
      "[2|2] [2|3] [2|4] [2|5] [2|6] \n",
      "[3|3] [3|4] [3|5] [3|6] \n",
      "[4|4] [4|5] [4|6] \n",
      "[5|5] [5|6] \n",
      "[6|6] \n"
     ]
    }
   ],
   "source": [
    "# nested for loops:      # here we use \"end\" function see carefully      # [0|1] == [1|0] , [1|2] == [2|1], .......  \n",
    "# 2 dice program\n",
    "\n",
    "for left in range(7):\n",
    "    for right in range(left,7):\n",
    "            print(\"[\"+str(left)+\"|\"+str(right)+\"]\",end = \" \")\n",
    "    print()\n",
    "    "
   ]
  },
  {
   "cell_type": "code",
   "execution_count": 5,
   "id": "525ec616",
   "metadata": {},
   "outputs": [
    {
     "name": "stdout",
     "output_type": "stream",
     "text": [
      "This is the outer loop iteration number 0\n",
      "Inner loop iteration number 0\n",
      "Inner loop iteration number 1\n",
      "Inner loop iteration number 2\n",
      "Inner loop iteration number 3\n",
      "Exit inner loop\n",
      "This is the outer loop iteration number 1\n",
      "Inner loop iteration number 0\n",
      "Inner loop iteration number 1\n",
      "Inner loop iteration number 2\n",
      "Inner loop iteration number 3\n",
      "Exit inner loop\n"
     ]
    }
   ],
   "source": [
    "for x in range(2):\n",
    "    print(\"This is the outer loop iteration number \" + str(x))\n",
    "    for y in range(3+1):\n",
    "        print(\"Inner loop iteration number \" + str(y))\n",
    "    print(\"Exit inner loop\")"
   ]
  },
  {
   "cell_type": "code",
   "execution_count": 13,
   "id": "f71cf2dc",
   "metadata": {},
   "outputs": [
    {
     "name": "stdout",
     "output_type": "stream",
     "text": [
      "Subscribe\n",
      "Subscribe\n",
      "Subscribe\n",
      "Subscribe\n"
     ]
    }
   ],
   "source": [
    "oldprojects = [\"aaa\",\"bbb\",\"ccc\"]\n",
    "newprojects = [\"sss\",\"vvvv\",\"kkk\",\"rrr\"]\n",
    "\n",
    "for user in newprojects:\n",
    "    print(\"Subscribe\")\n",
    "    "
   ]
  },
  {
   "cell_type": "code",
   "execution_count": 25,
   "id": "95c47b8d",
   "metadata": {},
   "outputs": [
    {
     "name": "stdout",
     "output_type": "stream",
     "text": [
      "1 2 3 4 \n",
      "2 4 6 8 \n",
      "3 6 9 12 \n",
      "4 8 12 16 \n"
     ]
    }
   ],
   "source": [
    "# Use a set of nested for loops with the range() function to create a matrix of numbers. \n",
    "\n",
    "def matrix(initial_number,first_row_end_number):\n",
    "    n1 = initial_number\n",
    "    n2 = first_row_end_number + 1\n",
    "    for row in range(n1,n2):\n",
    "        for column in range(n1,n2):\n",
    "            print(row * column, end = \" \")\n",
    "        print()                                   # this print( is used for new line)\n",
    "            \n",
    "            \n",
    "matrix(1,4)\n",
    "        \n",
    "    "
   ]
  },
  {
   "cell_type": "code",
   "execution_count": 29,
   "id": "56169800",
   "metadata": {},
   "outputs": [
    {
     "name": "stdout",
     "output_type": "stream",
     "text": [
      "1 2 3 4 \n",
      "2 4 6 8 \n"
     ]
    }
   ],
   "source": [
    "# Use a set of nested for loops with the range() function to create a matrix[2,4] of numbers\n",
    "\n",
    "def matrix(n1,n2):\n",
    "    for row in range(1,n1+1):\n",
    "        for column in range(1,n2+1):\n",
    "            print(row * column, end =\" \")\n",
    "        print()\n",
    "            \n",
    "            \n",
    "matrix(2,4)\n",
    "  "
   ]
  },
  {
   "cell_type": "code",
   "execution_count": 30,
   "id": "e7f7dfdc",
   "metadata": {},
   "outputs": [
    {
     "name": "stdout",
     "output_type": "stream",
     "text": [
      "0 0 1 0 1 2 0 1 2 3 0 1 2 3 4 0 1 2 3 4 5 0 1 2 3 4 5 6 0 1 2 3 4 5 6 7 0 1 2 3 4 5 6 7 8 "
     ]
    }
   ],
   "source": [
    "# Predict the final value of a nested for loop with range() functions.\n",
    "for outer in range(10):               # 0-9\n",
    "    for inner in range(outer):\n",
    "        print(inner, end = \" \")\n",
    "    "
   ]
  },
  {
   "cell_type": "code",
   "execution_count": 28,
   "id": "e3c85d61",
   "metadata": {},
   "outputs": [
    {
     "data": {
      "text/plain": [
       "True"
      ]
     },
     "execution_count": 28,
     "metadata": {},
     "output_type": "execute_result"
    }
   ],
   "source": [
    "# Prime number : number divisible by 1 and itself\n",
    "\n",
    "# check whether the given number is prime or not\n",
    "\n",
    "def prime_number(n):\n",
    "    if n <= 1:\n",
    "        return False\n",
    "    for i in range(2,n-1):        # for i in range(2,int(sqrt(n))+1)     or      range(2,int(n*0.5)+1)\n",
    "        if n % i == 0:\n",
    "            return False\n",
    "            \n",
    "    return True\n",
    "        \n",
    "    \n",
    "\n",
    "prime_number(2)\n",
    "        "
   ]
  },
  {
   "cell_type": "code",
   "execution_count": 2,
   "id": "9f4f5a78",
   "metadata": {},
   "outputs": [
    {
     "name": "stdout",
     "output_type": "stream",
     "text": [
      "2 3 5 7 11 \n"
     ]
    }
   ],
   "source": [
    "# print all the prime numbers less than or equal to given number\n",
    "\n",
    "def prime_numbers(n):\n",
    "    \n",
    "    for m in range(2, n + 1):\n",
    "        is_prime = True              # Added a flag is_prime to track whether a number is prime or not.\n",
    "        for i in range(2,m-1):     # for i in range(2,int(sqrt(n))+1)     or      range(2,int(n*0.5)+1)\n",
    "            if m % i == 0: \n",
    "                is_prime = False\n",
    "                break\n",
    "        if is_prime:\n",
    "            print(m, end = \" \")\n",
    "    print()\n",
    "    \n",
    "    \n",
    "        \n",
    "    \n",
    "\n",
    "prime_numbers(11)\n",
    "        \n",
    "        \n",
    "            \n",
    "            "
   ]
  },
  {
   "cell_type": "code",
   "execution_count": 3,
   "id": "6ee48e0d",
   "metadata": {},
   "outputs": [
    {
     "name": "stdout",
     "output_type": "stream",
     "text": [
      "2 3 4 5 6 7 8 9 10 11 \n"
     ]
    }
   ],
   "source": [
    "def prime_numbers(n):                               # see carefully why this program fail .in this program we dont add flag so total program fail\n",
    "    \n",
    "    for m in range(2, n + 1):                       # for only one number check it is correct but we have to check multiple numbers so we must add flag\n",
    "                                \n",
    "        for i in range(2,m-1):    \n",
    "            if m % i == 0: \n",
    "                break\n",
    "                \n",
    "        print(m, end = \" \")\n",
    "    print()\n",
    "         \n",
    "    \n",
    "prime_numbers(11)"
   ]
  },
  {
   "cell_type": "code",
   "execution_count": null,
   "id": "d844d922",
   "metadata": {},
   "outputs": [],
   "source": [
    "# print all the prime numbers between the given numbers"
   ]
  },
  {
   "cell_type": "code",
   "execution_count": 3,
   "id": "20abeee4",
   "metadata": {},
   "outputs": [],
   "source": [
    "def prime_numbers_list(m,n):\n",
    "\n",
    "    for x in range(m,n+1):\n",
    "        flag = True\n",
    "        for i in range(2,x-1):\n",
    "            if x % i == 0:\n",
    "                flag = False\n",
    "                break\n",
    "        if flag:\n",
    "            print(x, end=\" \")\n",
    "    print()\n",
    "            \n",
    "            "
   ]
  },
  {
   "cell_type": "code",
   "execution_count": 4,
   "id": "6e141018",
   "metadata": {},
   "outputs": [
    {
     "name": "stdout",
     "output_type": "stream",
     "text": [
      "11 13 17 19 23 29 \n"
     ]
    }
   ],
   "source": [
    "prime_numbers_list(10,30)"
   ]
  },
  {
   "cell_type": "code",
   "execution_count": null,
   "id": "b85b3b0c",
   "metadata": {},
   "outputs": [],
   "source": []
  },
  {
   "cell_type": "code",
   "execution_count": 18,
   "id": "4e630a34",
   "metadata": {},
   "outputs": [
    {
     "name": "stdout",
     "output_type": "stream",
     "text": [
      "o\n",
      "u\n",
      "o\n",
      "e\n",
      "a\n",
      "e\n",
      "e\n",
      "e\n",
      "a\n",
      "a\n",
      "o\n"
     ]
    }
   ],
   "source": [
    "input = \"Four score and seven years ago\"\n",
    "for x in input:\n",
    "    if x == \"a\" or x==\"e\" or x==\"i\" or x==\"o\" or x==\"u\":\n",
    "        print(x)"
   ]
  },
  {
   "cell_type": "code",
   "execution_count": 20,
   "id": "eca86feb",
   "metadata": {},
   "outputs": [
    {
     "name": "stdout",
     "output_type": "stream",
     "text": [
      "o\n",
      "u\n",
      "o\n",
      "e\n",
      "a\n",
      "e\n",
      "e\n",
      "e\n",
      "a\n",
      "a\n",
      "o\n"
     ]
    }
   ],
   "source": [
    "# or in a simple and most used way is\n",
    "\n",
    "input = \"Four score and seven years ago\"\n",
    "for x in input:\n",
    "    if x.lower() in [\"a\",\"e\",\"i\",\"o\",\"u\"]:\n",
    "        print(x)"
   ]
  },
  {
   "cell_type": "code",
   "execution_count": 22,
   "id": "dc549af9",
   "metadata": {},
   "outputs": [
    {
     "name": "stdout",
     "output_type": "stream",
     "text": [
      "0\n",
      "4\n",
      "8\n",
      "12\n",
      "16\n",
      "20\n",
      "24\n",
      "28\n",
      "32\n",
      "36\n"
     ]
    }
   ],
   "source": [
    "for n in range(0,18+1,2):\n",
    "  print(n*2)"
   ]
  },
  {
   "cell_type": "code",
   "execution_count": 25,
   "id": "b3ea8c29",
   "metadata": {},
   "outputs": [
    {
     "name": "stdout",
     "output_type": "stream",
     "text": [
      "0\n",
      "2\n",
      "4\n",
      "6\n",
      "8\n",
      "10\n",
      "12\n",
      "14\n",
      "16\n",
      "18\n"
     ]
    }
   ],
   "source": [
    "# prints all the even numbers in the range of 0-18\n",
    "\n",
    "for n in range(10):\n",
    "  print(n+n)"
   ]
  },
  {
   "cell_type": "code",
   "execution_count": 8,
   "id": "d7c9e5da",
   "metadata": {},
   "outputs": [
    {
     "name": "stdout",
     "output_type": "stream",
     "text": [
      "0 10 20 30 40 50 60 70 80 90\n"
     ]
    }
   ],
   "source": [
    "# .strip() method will trim the  whitespace \" \" from the start and end of the string \"count\" \n",
    "\n",
    "def numbers(end):\n",
    "    count = \"\"\n",
    "    for x in range(0,end,10):                  # note: string doesn't add numbers it just give the o/p as it is i/p numbers\n",
    "        count = count + str(x) + \" \"           # in here we mention whitespaces \" \" b/w strings(numbers), in b/w \" \" what we mention to display as o/p is our choice to specify any digit , charactyer or symbol in b/w that whitespaces \n",
    "    return count.strip()\n",
    "\n",
    "print(numbers(100))"
   ]
  },
  {
   "cell_type": "code",
   "execution_count": 13,
   "id": "38ce7aa1",
   "metadata": {},
   "outputs": [
    {
     "name": "stdout",
     "output_type": "stream",
     "text": [
      "The CEO has a 3- figure salary\n"
     ]
    }
   ],
   "source": [
    "# Use a while loop to count the number of digits in a numerical value:\n",
    "\n",
    "# This function accepts a CEO's salary as a variable. It counts the number of digits in the salary and returns the sentence like:\n",
    "# \"The CEO has a 6-figure salary.\"\n",
    "\n",
    "def digits_count(salary):\n",
    "    count = 0\n",
    "    if salary == 0:\n",
    "        count = count+1\n",
    "    while salary >= 1:\n",
    "        salary = salary / 10       # [step-1: 100>=1 , 100/10 = 10, count =1] [s-2: 10>=1 , 10/10 = 1 , count =2] [ step-3: 1>=1 , 1/10=0, count =3]\n",
    "        count =  count+1\n",
    "    return count\n",
    "print(\"The CEO has a \"+ str(digits_count(100))+\"- figure salary\")\n",
    "    \n",
    "\n",
    "        \n"
   ]
  },
  {
   "cell_type": "code",
   "execution_count": null,
   "id": "896be5a1",
   "metadata": {},
   "outputs": [],
   "source": []
  },
  {
   "cell_type": "code",
   "execution_count": null,
   "id": "de0e491a",
   "metadata": {},
   "outputs": [],
   "source": []
  }
 ],
 "metadata": {
  "kernelspec": {
   "display_name": "Python 3 (ipykernel)",
   "language": "python",
   "name": "python3"
  },
  "language_info": {
   "codemirror_mode": {
    "name": "ipython",
    "version": 3
   },
   "file_extension": ".py",
   "mimetype": "text/x-python",
   "name": "python",
   "nbconvert_exporter": "python",
   "pygments_lexer": "ipython3",
   "version": "3.11.4"
  }
 },
 "nbformat": 4,
 "nbformat_minor": 5
}
