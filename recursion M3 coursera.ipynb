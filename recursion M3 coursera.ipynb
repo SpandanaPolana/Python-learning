{
 "cells": [
  {
   "cell_type": "code",
   "execution_count": 1,
   "id": "6fd8c45a",
   "metadata": {},
   "outputs": [],
   "source": [
    "# Recursion: doing a repeative task by having a function call itself"
   ]
  },
  {
   "cell_type": "code",
   "execution_count": 2,
   "id": "fcdb24a0",
   "metadata": {},
   "outputs": [
    {
     "name": "stdout",
     "output_type": "stream",
     "text": [
      "120\n"
     ]
    }
   ],
   "source": [
    "# factorial of a given number    factorial(n): n*(n-1)*(n-2)*...*1      0r    n! = n*(n-1)!\n",
    "\n",
    "def fact_of_num(n):                        # 5! =5*4*3*2*1 \n",
    "    if n < 2:\n",
    "        return 1                                                # very complex method for big numbers\n",
    "    else:\n",
    "        result = n * (n-1)*(n-2)*(n-3)*1\n",
    "        print(result)\n",
    "        \n",
    "fact_of_num(5)\n",
    "    "
   ]
  },
  {
   "cell_type": "code",
   "execution_count": 5,
   "id": "e0e0ea36",
   "metadata": {},
   "outputs": [
    {
     "name": "stdout",
     "output_type": "stream",
     "text": [
      "120\n"
     ]
    }
   ],
   "source": [
    "# method -1\n",
    "\n",
    "def fact_of_num(n):\n",
    "    result = 1\n",
    "    for i in range(1,n+1):\n",
    "        result = result * i\n",
    "    print(result)                                      # 5! = 5*4*3*2*1  ---> 1*2*3*4*5\n",
    "        \n",
    "                                                             # simple method     \n",
    "fact_of_num(5)"
   ]
  },
  {
   "cell_type": "code",
   "execution_count": 8,
   "id": "c38e5a92",
   "metadata": {},
   "outputs": [
    {
     "name": "stdout",
     "output_type": "stream",
     "text": [
      "120\n"
     ]
    }
   ],
   "source": [
    "# method-2    : It runs the recursive case first until it reaches the base case   EX: Big doll contains so many small dolls inside             \n",
    "\n",
    "def factorial(n):                     # most widely used method by using inbuilt methods          \n",
    "    if n < 2:                         # Base case\n",
    "        return 1                            \n",
    "    return n * factorial(n-1)         # recursive case                   for ex 5 : 5*4*3*2\n",
    "          \n",
    "        \n",
    "fact_of_num(5)"
   ]
  },
  {
   "cell_type": "code",
   "execution_count": 14,
   "id": "cbe434fb",
   "metadata": {},
   "outputs": [
    {
     "data": {
      "text/plain": [
       "6"
      ]
     },
     "execution_count": 14,
     "metadata": {},
     "output_type": "execute_result"
    }
   ],
   "source": [
    "# In the while loops practice quiz, you were asked to write a function to calculate the sum of all positive numbers \n",
    "# between 1 and n. Rewrite the function using recursion instead of a while loop. \n",
    "# Remember that when n is less than 1, the function should return 0 as the answer.\n",
    "\n",
    "def sum_of_positive_num(n):\n",
    "    if n < 1:\n",
    "        return 0\n",
    "    return n + sum_of_positive_num(n - 1)\n",
    "\n",
    "\n",
    "sum_of_positive_num(3)\n",
    "        "
   ]
  },
  {
   "cell_type": "code",
   "execution_count": null,
   "id": "c1b88d95",
   "metadata": {},
   "outputs": [],
   "source": []
  }
 ],
 "metadata": {
  "kernelspec": {
   "display_name": "Python 3 (ipykernel)",
   "language": "python",
   "name": "python3"
  },
  "language_info": {
   "codemirror_mode": {
    "name": "ipython",
    "version": 3
   },
   "file_extension": ".py",
   "mimetype": "text/x-python",
   "name": "python",
   "nbconvert_exporter": "python",
   "pygments_lexer": "ipython3",
   "version": "3.11.4"
  }
 },
 "nbformat": 4,
 "nbformat_minor": 5
}
