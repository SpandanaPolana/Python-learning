{
 "cells": [
  {
   "cell_type": "code",
   "execution_count": 1,
   "id": "8a55f889",
   "metadata": {},
   "outputs": [],
   "source": [
    "# oops in python:"
   ]
  },
  {
   "cell_type": "code",
   "execution_count": 2,
   "id": "098973ee",
   "metadata": {},
   "outputs": [],
   "source": [
    "# what is method in python ?\n",
    "\n",
    "# A: Methods are \"functions\" that \"belongs to an object\" that perform actions on object and can manipulate the objects data.\n",
    "# They are called using dot notation, with the object name followed by a period and the method name. for ex: list objects have methods called .append(),.insert(),.remove(),.sort(), and so on.\n",
    "# Methods are an important part of object-oriented programming in Python."
   ]
  },
  {
   "cell_type": "code",
   "execution_count": 3,
   "id": "68792258",
   "metadata": {},
   "outputs": [],
   "source": [
    "# what is d/f b/w Functions and Methods:\n",
    "# A method, like a function, is a set of instructions that perform a task. \n",
    "# The difference is that a method is associated with (belongs to) an object, while a function is not"
   ]
  },
  {
   "cell_type": "code",
   "execution_count": 2,
   "id": "d812217e",
   "metadata": {},
   "outputs": [
    {
     "data": {
      "text/plain": [
       "'1.instance method \\n   2.Class method\\n   3.static method'"
      ]
     },
     "execution_count": 2,
     "metadata": {},
     "output_type": "execute_result"
    }
   ],
   "source": [
    "# types of methods:\n",
    "\n",
    "'''1.instance method \n",
    "   2.Class method\n",
    "   3.static method'''\n"
   ]
  },
  {
   "cell_type": "code",
   "execution_count": 60,
   "id": "cda4f503",
   "metadata": {},
   "outputs": [],
   "source": [
    "class ClassName:\n",
    "    def method_name(self, other_parameters):\n",
    "        body_of_method"
   ]
  },
  {
   "cell_type": "code",
   "execution_count": 5,
   "id": "d98cdd8e",
   "metadata": {},
   "outputs": [
    {
     "data": {
      "text/plain": [
       "\"1.Instance methods are for individual object data\\n\\n   2.Class methods for shared data\\n   \\n   3.Static methods for related tasks that don't need to access or modify any object or class data\""
      ]
     },
     "execution_count": 5,
     "metadata": {},
     "output_type": "execute_result"
    }
   ],
   "source": [
    "# choosing a method type:\n",
    "\n",
    "# The type of method you choose to use—instance, class, or static—depends on what data the method needs to access:\n",
    "\n",
    "'''1.Instance methods are for individual object data\n",
    "\n",
    "   2.Class methods for shared data\n",
    "   \n",
    "   3.Static methods for related tasks that don't need to access or modify any object or class data'''\n",
    "\n",
    "\n",
    "# Instance methods are the most common type of method. They take at least the parameter \"self\" as an input. \n",
    "# This parameter points towards an instance of the class when the method is called."
   ]
  },
  {
   "cell_type": "code",
   "execution_count": null,
   "id": "1c1ca02a",
   "metadata": {},
   "outputs": [],
   "source": []
  },
  {
   "cell_type": "code",
   "execution_count": 1,
   "id": "3de88495",
   "metadata": {},
   "outputs": [
    {
     "data": {
      "text/plain": [
       "'Each time you create an instance of a class, Python calls a special class method the constructor.\\n   The constructor’s job is to set up the object, meaning that instance of the class, so it’s ready to be used. \\n   When writing a Python class, you define a method called __init__ to be your constructor. \\n   The special name tells Python to use that method as the constructor.\\n   Just like any other method, the constructor can take arguments. When making an argument to the class, \\n   the first constructor must always be self.'"
      ]
     },
     "execution_count": 1,
     "metadata": {},
     "output_type": "execute_result"
    }
   ],
   "source": [
    "# Creating an instance of a class:\n",
    "\n",
    "'''Each time you create an instance of a class, Python calls a special class method the constructor.\n",
    "   The constructor’s job is to set up the object, meaning that instance of the class, so it’s ready to be used. \n",
    "   When writing a Python class, you define a method called __init__ to be your constructor. \n",
    "   This special name tells Python to use that method as the constructor.\n",
    "   Just like any other method, the constructor can take arguments. When making an argument to the class, \n",
    "   the first constructor must always be self.'''"
   ]
  },
  {
   "cell_type": "code",
   "execution_count": 29,
   "id": "529ab2b6",
   "metadata": {},
   "outputs": [
    {
     "name": "stdout",
     "output_type": "stream",
     "text": [
      "red\n"
     ]
    }
   ],
   "source": [
    "# CONSTRUCTORS:\n",
    "\n",
    "# 1.Here’s a simple example of a \"constructor that initializes an object’s variables\":\n",
    "\n",
    "class Apple:\n",
    "    def __init__(self):         # the Apple class has a method __init__() which is called a constructor and is used to initialize the object’s attributes(color and flavor).\n",
    "        self.color = \"red\"\n",
    "        self.flavor = \"sweet\"\n",
    "s = Apple()                      # object creation\n",
    "print(s.color)"
   ]
  },
  {
   "cell_type": "code",
   "execution_count": 7,
   "id": "87916953",
   "metadata": {},
   "outputs": [
    {
     "name": "stdout",
     "output_type": "stream",
     "text": [
      "green\n"
     ]
    }
   ],
   "source": [
    "# 2.Modify variables:\n",
    "\n",
    "# If we wanted to make our Apple class more flexible, we could allow the user to specify the color and flavor as arguments \n",
    "# when creating the object. We can modify our constructor to take those arguments and use them.\n",
    "\n",
    "class Apple:\n",
    "    def __init__(self,color,flavor):\n",
    "        self.color = color\n",
    "        self.flavor = flavor\n",
    "s = Apple(\"green\",\"sweet\")            # object creation with taking arguments from user\n",
    "print(s.color)\n",
    "        "
   ]
  },
  {
   "cell_type": "code",
   "execution_count": 5,
   "id": "8bc9abf6",
   "metadata": {},
   "outputs": [
    {
     "name": "stdout",
     "output_type": "stream",
     "text": [
      "spandana\n",
      "294\n"
     ]
    }
   ],
   "source": [
    "# general example reference to above by me:\n",
    "\n",
    "class studentinfo:\n",
    "    def __init__(self,name,id,branch,section):\n",
    "        self.name = name\n",
    "        self.id = id\n",
    "        self.branch = branch\n",
    "        self.section = section\n",
    "student_1 = studentinfo(\"spandana\",\"290\",\"ECE\",\"D\")\n",
    "student_2 = studentinfo(\"vamsi\",\"294\",\"ECE\",\"D\")\n",
    "\n",
    "print(student_1.name)\n",
    "print(student_2.id)\n",
    "\n",
    "        \n"
   ]
  },
  {
   "cell_type": "code",
   "execution_count": null,
   "id": "e3856c43",
   "metadata": {},
   "outputs": [],
   "source": []
  },
  {
   "cell_type": "code",
   "execution_count": 13,
   "id": "abd1cc08",
   "metadata": {},
   "outputs": [
    {
     "name": "stdout",
     "output_type": "stream",
     "text": [
      "An apple which is red and sweet\n"
     ]
    }
   ],
   "source": [
    "# python special methods :\n",
    "\n",
    "''' --> special methods begin and end with a double underscore.\n",
    "    --> For example, the __str__ special method \"controls\" how your object is converted to a \"string representation for output\".\n",
    " ******* When you print() something, Python calls the object’s __str__() method and outputs whatever that method returns *** '''\n",
    "\n",
    "# ex usage of __str__ :\n",
    "\n",
    "class Apple:\n",
    "    def __init__(self, color, flavor):\n",
    "        self.color = color\n",
    "        self.flavor = flavor\n",
    "\n",
    "    def __str__(self):\n",
    "        return \"An apple which is {} and {}\".format(self.color, self.flavor)\n",
    "\n",
    "s = Apple(\"red\", \"sweet\")\n",
    "print(s)\n",
    "    "
   ]
  },
  {
   "cell_type": "code",
   "execution_count": null,
   "id": "5883391c",
   "metadata": {},
   "outputs": [],
   "source": []
  },
  {
   "cell_type": "code",
   "execution_count": 15,
   "id": "4464e84d",
   "metadata": {},
   "outputs": [
    {
     "data": {
      "text/plain": [
       "' A constructor (such as __init__) is a special class method that sets up the object in Python.\\n\\n    __len__ returns the length of the object or collection.\\n\\n    __contains__ tests whether the object contains an item.\\n\\n    __eq__ tests whether two objects are equal.'"
      ]
     },
     "execution_count": 15,
     "metadata": {},
     "output_type": "execute_result"
    }
   ],
   "source": [
    "# Here are some of the other special methods you can override in your own classes:\n",
    "\n",
    "''' A constructor (such as __init__) is a special class method that sets up the object in Python.\n",
    "\n",
    "    __len__ returns the length of the object or collection.\n",
    "\n",
    "    __contains__ tests whether the object contains an item.\n",
    "\n",
    "    __eq__ tests whether two objects are equal.'''"
   ]
  },
  {
   "cell_type": "code",
   "execution_count": null,
   "id": "bed858bf",
   "metadata": {},
   "outputs": [],
   "source": []
  },
  {
   "cell_type": "code",
   "execution_count": 6,
   "id": "b89b2fb4",
   "metadata": {},
   "outputs": [
    {
     "name": "stdout",
     "output_type": "stream",
     "text": [
      "may may\n"
     ]
    }
   ],
   "source": [
    "# Instance methods:\n",
    "\n",
    "class goat:\n",
    "    def speak(self):\n",
    "        print(\"may may\")\n",
    "s = goat()\n",
    "s.speak()\n"
   ]
  },
  {
   "cell_type": "code",
   "execution_count": 26,
   "id": "b443032c",
   "metadata": {},
   "outputs": [
    {
     "name": "stdout",
     "output_type": "stream",
     "text": [
      "Hello i am harrypotter mai mai!\n",
      "Hello i am jennifer mai mai!\n"
     ]
    }
   ],
   "source": [
    "# Instance variables: Variables that have different values for different instances of the 'same class'.\n",
    "# ex:\n",
    "# instance method with instance variables:\n",
    "\n",
    "class goat:\n",
    "    name = \"pandi\"   # attribute/variable(current instance of class)\n",
    "    def speak(self):\n",
    "        print(\"Hello i am {} mai mai!\".format(self.name))\n",
    "        \n",
    "s = goat()\n",
    "s.name = \"harrypotter\"    # creating a new instance of class variable\n",
    "s.speak()\n",
    "v = goat()\n",
    "v.name = \"jennifer\"       # creating second instance of class variable\n",
    "v.speak()"
   ]
  },
  {
   "cell_type": "code",
   "execution_count": null,
   "id": "3212b35c",
   "metadata": {},
   "outputs": [],
   "source": []
  },
  {
   "cell_type": "code",
   "execution_count": 28,
   "id": "2a6ccaef",
   "metadata": {},
   "outputs": [
    {
     "data": {
      "text/plain": [
       "4"
      ]
     },
     "execution_count": 28,
     "metadata": {},
     "output_type": "execute_result"
    }
   ],
   "source": [
    "# instance method with instance variables returns a value:\n",
    "\n",
    "class son:\n",
    "    year = 0\n",
    "    def son_years(self):\n",
    "        return self.year * 2\n",
    "s = son()\n",
    "s.year = 2\n",
    "s.son_years()"
   ]
  },
  {
   "cell_type": "code",
   "execution_count": null,
   "id": "7b8f5d24",
   "metadata": {},
   "outputs": [],
   "source": []
  },
  {
   "cell_type": "code",
   "execution_count": 59,
   "id": "f8f8cb25",
   "metadata": {},
   "outputs": [
    {
     "name": "stdout",
     "output_type": "stream",
     "text": [
      "The area of triangle 1 is 25.0\n",
      "The area of triangle 2 is 24.0\n",
      "The area of both triangles is 49.0\n"
     ]
    }
   ],
   "source": [
    "# Methods as special operators: \n",
    "# Python allows you to 'override' or implement standard operations in your code to make your code cleaner for yourself and others to read\n",
    "\n",
    "class Triangle:\n",
    "    def __init__(self, base, height):\n",
    "        self.base = base\n",
    "        self.height = height\n",
    "    def area(self):\n",
    "        return 0.5 * self.base * self.height\n",
    "    def __add__(self, other):\n",
    "        return self.area() + other.area()     # see here This method overrides the + operator to \"add\" two triangles together.\n",
    "    \n",
    "triangle1 = Triangle(10, 5)\n",
    "triangle2 = Triangle(6, 8)\n",
    "\n",
    "print(\"The area of triangle 1 is\", triangle1.area())\n",
    "print(\"The area of triangle 2 is\", triangle2.area())\n",
    "print(\"The area of both triangles is\", triangle1+triangle2)"
   ]
  },
  {
   "cell_type": "code",
   "execution_count": null,
   "id": "9237916f",
   "metadata": {},
   "outputs": [],
   "source": []
  },
  {
   "cell_type": "code",
   "execution_count": null,
   "id": "fbe86c35",
   "metadata": {},
   "outputs": [],
   "source": []
  },
  {
   "cell_type": "code",
   "execution_count": 61,
   "id": "f8365495",
   "metadata": {},
   "outputs": [],
   "source": [
    "# Classes define the behavior of all instances/objects of a specific class.\n",
    "# Remember, each variable of a specific class is an instance or object.\n",
    "# Methods are just like functions, but they can only be used through a class.\n",
    "# The first parameter of the methods, (self), represents the current instance\n",
    "\n",
    "class ClassName:\n",
    "    def method_name(self, other_parameters):\n",
    "        body_of_method\n",
    "        \n",
    "def function_name(parameters):\n",
    "    body_of_function"
   ]
  },
  {
   "cell_type": "code",
   "execution_count": null,
   "id": "b3d35cbd",
   "metadata": {},
   "outputs": [],
   "source": []
  }
 ],
 "metadata": {
  "kernelspec": {
   "display_name": "Python 3 (ipykernel)",
   "language": "python",
   "name": "python3"
  },
  "language_info": {
   "codemirror_mode": {
    "name": "ipython",
    "version": 3
   },
   "file_extension": ".py",
   "mimetype": "text/x-python",
   "name": "python",
   "nbconvert_exporter": "python",
   "pygments_lexer": "ipython3",
   "version": "3.11.4"
  }
 },
 "nbformat": 4,
 "nbformat_minor": 5
}
