{
 "cells": [
  {
   "cell_type": "code",
   "execution_count": 1,
   "id": "6342f727",
   "metadata": {},
   "outputs": [],
   "source": [
    "#1. Given 2 int values, return True if one is negative and one is positive.\n",
    "#   Except if the parameter \"negative\" is True, then return True only if both are negative.\n",
    "\n",
    "# pos_neg(1, -1, False) → True\n",
    "# pos_neg(-1, 1, False) → True\n",
    "# pos_neg(-4, -5, True) → True\n",
    "\n",
    "\n",
    "\n",
    "\n",
    "# Ans:\n",
    "\n",
    "def pos_neg(a, b, negative):\n",
    "  \n",
    "  if ((a < 0 and b > 0) or (a > 0 and b < 0))  and (negative == False):    # carefully observe there is 2 enclosing bracets if we put only one code is wrong.\n",
    "    return True\n",
    "    \n",
    "  elif a < 0 and b < 0 and negative == True:\n",
    "    return True\n",
    "    \n",
    "  else:\n",
    "    return False\n"
   ]
  },
  {
   "cell_type": "code",
   "execution_count": 2,
   "id": "7041481c",
   "metadata": {},
   "outputs": [
    {
     "name": "stdout",
     "output_type": "stream",
     "text": [
      "True\n",
      "True\n",
      "True\n",
      "False\n",
      "False\n",
      "False\n"
     ]
    }
   ],
   "source": [
    "print(pos_neg(1, -1, False))  # → True\n",
    "print(pos_neg(-1, 1, False))  # → True\n",
    "print(pos_neg(-4, -5, True))  # → True\n",
    "print(pos_neg(-4, 5, True))   # → False\n",
    "print(pos_neg(4, -5, True))   # → False\n",
    "print(pos_neg(4, 5, False))   # → False"
   ]
  },
  {
   "cell_type": "code",
   "execution_count": null,
   "id": "49655a34",
   "metadata": {},
   "outputs": [],
   "source": []
  }
 ],
 "metadata": {
  "kernelspec": {
   "display_name": "Python 3 (ipykernel)",
   "language": "python",
   "name": "python3"
  },
  "language_info": {
   "codemirror_mode": {
    "name": "ipython",
    "version": 3
   },
   "file_extension": ".py",
   "mimetype": "text/x-python",
   "name": "python",
   "nbconvert_exporter": "python",
   "pygments_lexer": "ipython3",
   "version": "3.11.4"
  }
 },
 "nbformat": 4,
 "nbformat_minor": 5
}
