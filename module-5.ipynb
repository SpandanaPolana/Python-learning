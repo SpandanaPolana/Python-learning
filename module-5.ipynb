{
 "cells": [
  {
   "cell_type": "code",
   "execution_count": 11,
   "id": "aa8be248",
   "metadata": {
    "scrolled": true
   },
   "outputs": [
    {
     "name": "stdout",
     "output_type": "stream",
     "text": [
      "2020-01-21 12:45:46\n",
      "2020-01-22 15:53:42\n",
      "2020-01-21 18:53:21\n",
      "2020-01-22 10:25:34\n",
      "2020-01-21 08:20:01\n",
      "2020-01-23 11:24:35\n",
      " \n",
      "2020-01-21 08:20:01\n",
      "2020-01-21 12:45:46\n",
      "2020-01-21 18:53:21\n",
      "2020-01-22 10:25:34\n",
      "2020-01-22 15:53:42\n",
      "2020-01-23 11:24:35\n",
      "None\n",
      "webserver.local\n",
      " \n",
      "set()\n",
      "myworkstation.local\n",
      " \n",
      "set()\n",
      "webserver.local\n",
      " \n",
      "myworkstation.local\n",
      " \n",
      "webserver.local\n",
      " \n",
      "mailserver.local\n",
      " \n",
      "set()\n",
      "{'webserver.local': {'lane'}, 'myworkstation.local': set(), 'mailserver.local': {'chris'}}\n",
      " \n",
      "{'webserver.local': {'lane'}, 'myworkstation.local': set(), 'mailserver.local': {'chris'}}\n"
     ]
    }
   ],
   "source": [
    "# manger gives you a list of events(with user,machine,type = login / logout , date) in that you have to tell the current login users with their systems\n",
    "\n",
    "def get_event_date(event):  # we give input as list of all events\n",
    "    print(event.date ) \n",
    "    return event.date       # it returns the all events dates\n",
    "    \n",
    "    \n",
    "def current_users(events):\n",
    "    events.sort(key = get_event_date)  \n",
    "    print(\" \")\n",
    "    print(events.sort(key = get_event_date) )\n",
    "    machines = {}\n",
    "    for event in events:\n",
    "        if event.machine not in machines:\n",
    "            machines[event.machine] = set()     # if machine is not in dictionary we will add it 'with' an empty set as a value\n",
    "            print(machines[event.machine])\n",
    "        if event.type == \"login\":\n",
    "            machines[event.machine].add(event.user)        # add user to the list\n",
    "        elif event.type == \"logout\":\n",
    "            machines[event.machine].remove(event.user)     # remove user from the list\n",
    "            \n",
    "    # onces we are done iterating through the list of events, the dictionary will contain 'all machines' we have seen as 'Keys'\n",
    "    # with a set containing the current users of the machines as a values.\n",
    "    print(machines)\n",
    "    print(\" \")\n",
    "    return machines  # now the dictionary is ready but we have to print it in a different way so for that we create a new function called 'generate_report'see below code.\n",
    "\n",
    "\n",
    "\n",
    "\n",
    "\n",
    "class Event:\n",
    "  def __init__(self, event_date, event_type, machine_name, user):\n",
    "    self.date = event_date\n",
    "    self.type = event_type\n",
    "    self.machine = machine_name\n",
    "    self.user = user\n",
    "    \n",
    "events = [\n",
    "  Event('2020-01-21 12:45:46', 'login', 'myworkstation.local', 'jordan'),\n",
    "  Event('2020-01-22 15:53:42', 'logout', 'webserver.local', 'jordan'),\n",
    "  Event('2020-01-21 18:53:21', 'login', 'webserver.local', 'lane'),\n",
    "  Event('2020-01-22 10:25:34', 'logout', 'myworkstation.local', 'jordan'),\n",
    "  Event('2020-01-21 08:20:01', 'login', 'webserver.local', 'jordan'),\n",
    "  Event('2020-01-23 11:24:35', 'login', 'mailserver.local', 'chris'),\n",
    "]\n",
    "\n",
    "\n",
    "users = current_users(events)\n",
    "print(users)\n",
    "\n"
   ]
  },
  {
   "cell_type": "code",
   "execution_count": null,
   "id": "1814652d",
   "metadata": {},
   "outputs": [],
   "source": []
  },
  {
   "cell_type": "code",
   "execution_count": null,
   "id": "132c0bbb",
   "metadata": {},
   "outputs": [],
   "source": []
  },
  {
   "cell_type": "code",
   "execution_count": null,
   "id": "de49a79b",
   "metadata": {},
   "outputs": [],
   "source": []
  },
  {
   "cell_type": "code",
   "execution_count": null,
   "id": "79ca0132",
   "metadata": {},
   "outputs": [],
   "source": []
  }
 ],
 "metadata": {
  "kernelspec": {
   "display_name": "Python 3 (ipykernel)",
   "language": "python",
   "name": "python3"
  },
  "language_info": {
   "codemirror_mode": {
    "name": "ipython",
    "version": 3
   },
   "file_extension": ".py",
   "mimetype": "text/x-python",
   "name": "python",
   "nbconvert_exporter": "python",
   "pygments_lexer": "ipython3",
   "version": "3.11.4"
  }
 },
 "nbformat": 4,
 "nbformat_minor": 5
}
