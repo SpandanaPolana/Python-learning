{
 "cells": [
  {
   "cell_type": "code",
   "execution_count": 49,
   "id": "fda0ab00",
   "metadata": {},
   "outputs": [],
   "source": [
    "# strings : is a group of characters. enclosed in \" \" or ' '\n",
    "# strings in python are immutable(can't change)\n",
    "\n",
    "# Strings are objects contains a sequence of single-character strings. Yes, a single letter is classified as a string in Python. \n",
    "# For example, string[0] is considered a string even though it is just a single character."
   ]
  },
  {
   "cell_type": "code",
   "execution_count": null,
   "id": "a910758b",
   "metadata": {},
   "outputs": [],
   "source": []
  },
  {
   "cell_type": "code",
   "execution_count": null,
   "id": "1d714840",
   "metadata": {},
   "outputs": [],
   "source": []
  },
  {
   "cell_type": "code",
   "execution_count": 12,
   "id": "e6ce0a65",
   "metadata": {},
   "outputs": [
    {
     "name": "stdout",
     "output_type": "stream",
     "text": [
      "H\n",
      "e\n",
      "l\n",
      "l\n",
      "o\n"
     ]
    }
   ],
   "source": [
    "# looping a string of characters\n",
    "\n",
    "name = \"Hello\"\n",
    "for char in name:\n",
    "    print(char)        # here we can end =\" \" to print all character in an endless line\n"
   ]
  },
  {
   "cell_type": "code",
   "execution_count": 4,
   "id": "fe1d7a12",
   "metadata": {},
   "outputs": [
    {
     "name": "stdout",
     "output_type": "stream",
     "text": [
      "0\n",
      "1\n",
      "2\n",
      "3\n",
      "4\n"
     ]
    }
   ],
   "source": [
    "# What if you don’t want the elements of the string but the position of the string instead?\n",
    "\n",
    "name = \"Hello\"\n",
    "for i in range(len(name)):\n",
    "    print(i)"
   ]
  },
  {
   "cell_type": "code",
   "execution_count": 5,
   "id": "f2fb0685",
   "metadata": {},
   "outputs": [
    {
     "name": "stdout",
     "output_type": "stream",
     "text": [
      "H\n",
      "e\n",
      "l\n",
      "l\n",
      "o\n"
     ]
    }
   ],
   "source": [
    "name = \"Hello\"\n",
    "for i in range(len(name)):\n",
    "    print(name[i])"
   ]
  },
  {
   "cell_type": "code",
   "execution_count": 6,
   "id": "4f086a5d",
   "metadata": {},
   "outputs": [
    {
     "name": "stdout",
     "output_type": "stream",
     "text": [
      "exampleexampleexample\n"
     ]
    }
   ],
   "source": [
    "print(\"example\" * 3)"
   ]
  },
  {
   "cell_type": "code",
   "execution_count": 10,
   "id": "fa963b15",
   "metadata": {},
   "outputs": [
    {
     "name": "stdout",
     "output_type": "stream",
     "text": [
      "s\n",
      "r\n"
     ]
    }
   ],
   "source": [
    "text = \"Random string with a lot of characters\"\n",
    "print(text[-1])\n",
    "print(text[-2])"
   ]
  },
  {
   "cell_type": "code",
   "execution_count": 5,
   "id": "ccf3b408",
   "metadata": {},
   "outputs": [
    {
     "name": "stdout",
     "output_type": "stream",
     "text": [
      "H\n",
      "e\n",
      "l\n",
      "l\n",
      "o\n"
     ]
    }
   ],
   "source": [
    "# strings usage in while loop with indexing:\n",
    "# ** Pro Tip ** : In any while loop, you can add conditional statements and stop the iteration process early \n",
    "# so that the loop does not examine every character like in for loop.                                                      \n",
    "# index : always starts from '0\n",
    "# length: always starts from '1'    \n",
    "\n",
    "name = \"Hello\"                                 \n",
    "index = 0\n",
    "while index < len(name):\n",
    "    print(name[index])\n",
    "    index += 1"
   ]
  },
  {
   "cell_type": "code",
   "execution_count": null,
   "id": "0430e0d0",
   "metadata": {},
   "outputs": [],
   "source": []
  },
  {
   "cell_type": "code",
   "execution_count": null,
   "id": "0c925337",
   "metadata": {},
   "outputs": [],
   "source": []
  },
  {
   "cell_type": "code",
   "execution_count": null,
   "id": "db3ffa96",
   "metadata": {},
   "outputs": [],
   "source": []
  },
  {
   "cell_type": "code",
   "execution_count": 24,
   "id": "f0353a7a",
   "metadata": {},
   "outputs": [
    {
     "name": "stdout",
     "output_type": "stream",
     "text": [
      "[1, 4, 9, 16, 25]\n"
     ]
    }
   ],
   "source": [
    "# Lists:\n",
    "\n",
    "numbers = [1,2,3,4,5]\n",
    "squared_numbers = [x**2 for x in numbers]\n",
    "print(squared_numbers)"
   ]
  },
  {
   "cell_type": "code",
   "execution_count": null,
   "id": "60a22024",
   "metadata": {},
   "outputs": [],
   "source": []
  },
  {
   "cell_type": "code",
   "execution_count": 1,
   "id": "01ac683f",
   "metadata": {},
   "outputs": [],
   "source": [
    "# slice and join strings:\n",
    "\n",
    "# slice :To access \"individual characters of a string\"/ \"substrings in a string\" by specifying the index using [::]\n",
    "#          [start:end:multiple],..........,[start:end:-1] for reverse of whole string\n",
    "    \n",
    "# join : Joining strings allows you to \"add two or more strings together\" using + operator or .join()"
   ]
  },
  {
   "cell_type": "code",
   "execution_count": 41,
   "id": "bebb160e",
   "metadata": {},
   "outputs": [
    {
     "name": "stdout",
     "output_type": "stream",
     "text": [
      "w\n",
      "k\n",
      "v\n",
      "svk\n",
      "sv\n",
      "welcome,\n",
      ", sv\n",
      "wloe v\n",
      "kvs ,emoclew\n"
     ]
    }
   ],
   "source": [
    "# Slice and string Indexing:    # *** to findout the string characters using indexes ***\n",
    "\n",
    "span = \"welcome, svk\"   # 12 characters   front:(0 to 11) & back:(-1 to -12)\n",
    "\n",
    "print(span[0])         # it starts from 0 and you dont specify end so by default it takes to end of string \n",
    "\n",
    "print(span[-1])\n",
    "print(span[-2])        # when we use - then it start backwards from -1,-2,-3,... not -0,-1,-2,...\n",
    "\n",
    "print(span[-3:])       # you didn't specify ending value so by default it prints upto ending value\n",
    "print(span[-3:-1])\n",
    "\n",
    "print(span[0:8])       # it takes starting to ending input and print by excluding 1 at end i.e it prints from 0-7 only\n",
    "print(span[7:11])\n",
    "\n",
    "print(span[0:12:2])    # it gives every second value because you specifies n=2 and the string starting index is 0 so by default it gives index 0 character/value\n",
    "\n",
    "print(span[::-1])      # it reverses whole string\n"
   ]
  },
  {
   "cell_type": "code",
   "execution_count": 43,
   "id": "2e04744f",
   "metadata": {},
   "outputs": [
    {
     "name": "stdout",
     "output_type": "stream",
     "text": [
      "5\n",
      "0\n"
     ]
    }
   ],
   "source": [
    "# 1 *** To findout the indexes of string characters ***\n",
    " \n",
    "pets = \"Cats & Dogs\"\n",
    "\n",
    "print(pets.index(\"&\"))\n",
    "print(pets.index(\"C\"))"
   ]
  },
  {
   "cell_type": "code",
   "execution_count": 48,
   "id": "d3d8e65b",
   "metadata": {},
   "outputs": [
    {
     "name": "stdout",
     "output_type": "stream",
     "text": [
      "0\n"
     ]
    },
    {
     "data": {
      "text/plain": [
       "1"
      ]
     },
     "execution_count": 48,
     "metadata": {},
     "output_type": "execute_result"
    }
   ],
   "source": [
    "# 2 \n",
    "\n",
    "print(\"spandana\".index(\"s\"))\n",
    "\n",
    "\"vamsi krishna\".index(\"a\")"
   ]
  },
  {
   "cell_type": "code",
   "execution_count": 9,
   "id": "e1898956",
   "metadata": {},
   "outputs": [
    {
     "name": "stdout",
     "output_type": "stream",
     "text": [
      "welcome greetings\n",
      "welcomegreetings\n"
     ]
    }
   ],
   "source": [
    "# Join\n",
    "\n",
    "span = [\"welcome\",\"greetings\"]\n",
    "print(\" \".join(span))         # \" \" : creates an empty string. (or) you can specify like this also x = \" \"   print(x.join(span))\n",
    "print(\"welcome\"+\"greetings\")"
   ]
  },
  {
   "cell_type": "code",
   "execution_count": null,
   "id": "a2ff0eda",
   "metadata": {},
   "outputs": [],
   "source": []
  },
  {
   "cell_type": "code",
   "execution_count": null,
   "id": "56964489",
   "metadata": {},
   "outputs": [],
   "source": []
  },
  {
   "cell_type": "code",
   "execution_count": null,
   "id": "3e93bd63",
   "metadata": {},
   "outputs": [],
   "source": []
  },
  {
   "cell_type": "code",
   "execution_count": 16,
   "id": "ab29726b",
   "metadata": {},
   "outputs": [],
   "source": [
    "# common errors in string:"
   ]
  },
  {
   "cell_type": "code",
   "execution_count": 21,
   "id": "eb660d91",
   "metadata": {},
   "outputs": [
    {
     "ename": "TypeError",
     "evalue": "'int' object is not iterable",
     "output_type": "error",
     "traceback": [
      "\u001b[1;31m---------------------------------------------------------------------------\u001b[0m",
      "\u001b[1;31mTypeError\u001b[0m                                 Traceback (most recent call last)",
      "Cell \u001b[1;32mIn[21], line 3\u001b[0m\n\u001b[0;32m      1\u001b[0m \u001b[38;5;66;03m#1\u001b[39;00m\n\u001b[1;32m----> 3\u001b[0m \u001b[38;5;28;01mfor\u001b[39;00m x \u001b[38;5;129;01min\u001b[39;00m \u001b[38;5;241m25\u001b[39m: \u001b[38;5;66;03m# error in this line we dont specify range(). i.e range(25) i.e *** range() is used to iterate integer objects***\u001b[39;00m\n\u001b[0;32m      4\u001b[0m     \u001b[38;5;28mprint\u001b[39m(x)\n",
      "\u001b[1;31mTypeError\u001b[0m: 'int' object is not iterable"
     ]
    }
   ],
   "source": [
    "#1 : range() is used to iterate int objs.\n",
    "\n",
    "for x in 25: # error in this line we dont specify range(). i.e range(25) i.e *** range() is used to iterate integer objects***\n",
    "    print(x)\n",
    "     "
   ]
  },
  {
   "cell_type": "code",
   "execution_count": 27,
   "id": "c1077727",
   "metadata": {},
   "outputs": [
    {
     "name": "stdout",
     "output_type": "stream",
     "text": [
      "Hello aaa\n",
      "Hello bbb\n",
      "Hello ccc\n"
     ]
    }
   ],
   "source": [
    "#2\n",
    "\n",
    "def greetings(friends):\n",
    "    for friend in friends:\n",
    "        print(\"Hello \"+friend)\n",
    "        \n",
    "greetings([\"aaa\",\"bbb\",\"ccc\"])"
   ]
  },
  {
   "cell_type": "code",
   "execution_count": 28,
   "id": "c9521b73",
   "metadata": {},
   "outputs": [
    {
     "ename": "TypeError",
     "evalue": "greetings() takes 1 positional argument but 3 were given",
     "output_type": "error",
     "traceback": [
      "\u001b[1;31m---------------------------------------------------------------------------\u001b[0m",
      "\u001b[1;31mTypeError\u001b[0m                                 Traceback (most recent call last)",
      "Cell \u001b[1;32mIn[28], line 7\u001b[0m\n\u001b[0;32m      4\u001b[0m     \u001b[38;5;28;01mfor\u001b[39;00m friend \u001b[38;5;129;01min\u001b[39;00m friends:\n\u001b[0;32m      5\u001b[0m         \u001b[38;5;28mprint\u001b[39m(\u001b[38;5;124m\"\u001b[39m\u001b[38;5;124mHello \u001b[39m\u001b[38;5;124m\"\u001b[39m\u001b[38;5;241m+\u001b[39mfriend)\n\u001b[1;32m----> 7\u001b[0m greetings(\u001b[38;5;124m\"\u001b[39m\u001b[38;5;124maaa\u001b[39m\u001b[38;5;124m\"\u001b[39m,\u001b[38;5;124m\"\u001b[39m\u001b[38;5;124mbbb\u001b[39m\u001b[38;5;124m\"\u001b[39m,\u001b[38;5;124m\"\u001b[39m\u001b[38;5;124mccc\u001b[39m\u001b[38;5;124m\"\u001b[39m)\n",
      "\u001b[1;31mTypeError\u001b[0m: greetings() takes 1 positional argument but 3 were given"
     ]
    }
   ],
   "source": [
    "#3\n",
    "\n",
    "def greetings(friends):\n",
    "    for friend in friends:\n",
    "        print(\"Hello \"+friend)\n",
    "        \n",
    "greetings(\"aaa\",\"bbb\",\"ccc\")"
   ]
  },
  {
   "cell_type": "code",
   "execution_count": 30,
   "id": "e4df77cd",
   "metadata": {},
   "outputs": [
    {
     "name": "stdout",
     "output_type": "stream",
     "text": [
      "Hello a\n",
      "Hello a\n",
      "Hello a\n",
      "Hello ,\n",
      "Hello b\n",
      "Hello b\n",
      "Hello b\n",
      "Hello ,\n",
      "Hello c\n",
      "Hello c\n",
      "Hello c\n"
     ]
    }
   ],
   "source": [
    "#4: in strings takes every character as a substring in a original string \n",
    "\n",
    "def greetings(friends):\n",
    "    for friend in friends:\n",
    "        print(\"Hello \"+friend)\n",
    "        \n",
    "greetings(\"aaa,bbb,ccc\")"
   ]
  },
  {
   "cell_type": "code",
   "execution_count": 33,
   "id": "5773fe59",
   "metadata": {},
   "outputs": [
    {
     "name": "stdout",
     "output_type": "stream",
     "text": [
      "Hello vamsi\n"
     ]
    }
   ],
   "source": [
    "#5\n",
    "\n",
    "def greetings(friends):\n",
    "    for friend in friends:\n",
    "        print(\"Hello \"+friend)\n",
    "        \n",
    "greetings([\"vamsi\"])"
   ]
  },
  {
   "cell_type": "code",
   "execution_count": null,
   "id": "3f1c716f",
   "metadata": {},
   "outputs": [],
   "source": []
  },
  {
   "cell_type": "code",
   "execution_count": null,
   "id": "be2016b8",
   "metadata": {},
   "outputs": [],
   "source": []
  },
  {
   "cell_type": "code",
   "execution_count": null,
   "id": "cc5b32ea",
   "metadata": {},
   "outputs": [],
   "source": []
  },
  {
   "cell_type": "code",
   "execution_count": null,
   "id": "e5d72c98",
   "metadata": {},
   "outputs": [],
   "source": []
  },
  {
   "cell_type": "code",
   "execution_count": null,
   "id": "b6f7ea98",
   "metadata": {},
   "outputs": [],
   "source": []
  },
  {
   "cell_type": "code",
   "execution_count": null,
   "id": "34420e3a",
   "metadata": {},
   "outputs": [],
   "source": []
  },
  {
   "cell_type": "code",
   "execution_count": null,
   "id": "3e288acc",
   "metadata": {},
   "outputs": [],
   "source": [
    "# strings M-4:"
   ]
  },
  {
   "cell_type": "code",
   "execution_count": 50,
   "id": "be61da31",
   "metadata": {},
   "outputs": [
    {
     "ename": "TypeError",
     "evalue": "'str' object does not support item assignment",
     "output_type": "error",
     "traceback": [
      "\u001b[1;31m---------------------------------------------------------------------------\u001b[0m",
      "\u001b[1;31mTypeError\u001b[0m                                 Traceback (most recent call last)",
      "Cell \u001b[1;32mIn[50], line 2\u001b[0m\n\u001b[0;32m      1\u001b[0m name \u001b[38;5;241m=\u001b[39m \u001b[38;5;124m\"\u001b[39m\u001b[38;5;124mkong string\u001b[39m\u001b[38;5;124m\"\u001b[39m\n\u001b[1;32m----> 2\u001b[0m name[\u001b[38;5;241m0\u001b[39m] \u001b[38;5;241m=\u001b[39m \u001b[38;5;124m\"\u001b[39m\u001b[38;5;124ml\u001b[39m\u001b[38;5;124m\"\u001b[39m\n",
      "\u001b[1;31mTypeError\u001b[0m: 'str' object does not support item assignment"
     ]
    }
   ],
   "source": [
    "name = \"kong string\"\n",
    "name[0] = \"l\"         # this will throw an error, we cant change individual characters because strings in python are \"immutable\""
   ]
  },
  {
   "cell_type": "code",
   "execution_count": 51,
   "id": "4b6cab80",
   "metadata": {},
   "outputs": [
    {
     "name": "stdout",
     "output_type": "stream",
     "text": [
      "very long string\n"
     ]
    }
   ],
   "source": [
    "# strings in python are immutable if you want to change characters change is based on old ones see below example\n",
    "\n",
    "name = \"very kong string\"\n",
    "new = name[0:5] + \"l\" + name[6:]\n",
    "print(new)"
   ]
  },
  {
   "cell_type": "code",
   "execution_count": 55,
   "id": "d8246f27",
   "metadata": {},
   "outputs": [
    {
     "name": "stdout",
     "output_type": "stream",
     "text": [
      "spandana\n",
      "vamsi\n"
     ]
    }
   ],
   "source": [
    "# In this example we are not changing the old string just we are assigning a whole new string\n",
    "\n",
    "name = \"spandana\"\n",
    "print(name)\n",
    "name = \"vamsi\"\n",
    "print(name)\n"
   ]
  },
  {
   "cell_type": "code",
   "execution_count": 56,
   "id": "8f430846",
   "metadata": {},
   "outputs": [
    {
     "name": "stdout",
     "output_type": "stream",
     "text": [
      "5\n",
      "0\n"
     ]
    }
   ],
   "source": [
    "# using string method   .index()    used to get value using characters\n",
    "pets = \"Cats & Dogs\" \n",
    "\n",
    "print(pets.index(\"&\"))\n",
    "print(pets.index(\"C\"))\n"
   ]
  },
  {
   "cell_type": "code",
   "execution_count": 74,
   "id": "7634d36e",
   "metadata": {},
   "outputs": [
    {
     "data": {
      "text/plain": [
       "'span@rhrk-uni.kl.de'"
      ]
     },
     "execution_count": 74,
     "metadata": {},
     "output_type": "execute_result"
    }
   ],
   "source": [
    "# **** Real world example: you are moving to a new company that company manger assigned a work that \n",
    "# the company changes the email domain but the company members still using a lot of old email domains\n",
    "# so you have to change the old email domains to new email domains don't change the email adress only change the domain \n",
    "\n",
    "def replace_domain(email, old_domain, new_domain):\n",
    "    \n",
    "    if \"@\" + old_domain in email:\n",
    "        index = email.index(\"@\" + old_domain)   # for ex in our sample email this gives o/p of 4 for index value of @\n",
    "        new_email = email[:index] + \"@\" + new_domain\n",
    "        return new_email\n",
    "    return email\n",
    "\n",
    "replace_domain(\"span@gmail.com\",\"gmail.com\",\"rhrk-uni.kl.de\")"
   ]
  },
  {
   "cell_type": "code",
   "execution_count": 81,
   "id": "e7e268ff",
   "metadata": {},
   "outputs": [
    {
     "data": {
      "text/plain": [
       "'span@rhrk-uni.kl.de'"
      ]
     },
     "execution_count": 81,
     "metadata": {},
     "output_type": "execute_result"
    }
   ],
   "source": [
    "# or \n",
    "\n",
    "def replace_domain(email, old_domain, new_domain):\n",
    "    \n",
    "    if old_domain in email:\n",
    "        index = email.index(\"@\")   # for ex in our sample email this gives o/p of 4 for index value of @\n",
    "        new_email = email[:index] + \"@\" + new_domain\n",
    "        return new_email\n",
    "    return email\n",
    "\n",
    "replace_domain(\"span@gmail.com\",\"gmail.com\",\"rhrk-uni.kl.de\")"
   ]
  },
  {
   "cell_type": "code",
   "execution_count": null,
   "id": "d204dba3",
   "metadata": {},
   "outputs": [],
   "source": []
  },
  {
   "cell_type": "code",
   "execution_count": null,
   "id": "c48853fa",
   "metadata": {},
   "outputs": [],
   "source": [
    "# below are using string methods: .index() , in , .split() , .count() .upper() , .lower() ,string.isnumeric() ,string.isalpha() ,\n",
    "#                                  endswith() , strip() , lstrip() , rstrip() , .join() , .replace('old','new')"
   ]
  },
  {
   "cell_type": "code",
   "execution_count": null,
   "id": "6a61842d",
   "metadata": {},
   "outputs": [],
   "source": []
  },
  {
   "cell_type": "code",
   "execution_count": 79,
   "id": "0833de46",
   "metadata": {},
   "outputs": [
    {
     "data": {
      "text/plain": [
       "1"
      ]
     },
     "execution_count": 79,
     "metadata": {},
     "output_type": "execute_result"
    }
   ],
   "source": [
    "name = \"spandana\"\n",
    "name.index(\"p\")\n"
   ]
  },
  {
   "cell_type": "code",
   "execution_count": 1,
   "id": "b175e8ad",
   "metadata": {},
   "outputs": [
    {
     "name": "stdout",
     "output_type": "stream",
     "text": [
      "True\n"
     ]
    }
   ],
   "source": [
    "print(\"abc\" in \"abcde\")"
   ]
  },
  {
   "cell_type": "code",
   "execution_count": 58,
   "id": "c4282a30",
   "metadata": {},
   "outputs": [
    {
     "name": "stdout",
     "output_type": "stream",
     "text": [
      "True\n"
     ]
    },
    {
     "data": {
      "text/plain": [
       "False"
      ]
     },
     "execution_count": 58,
     "metadata": {},
     "output_type": "execute_result"
    }
   ],
   "source": [
    "# in : keyword to check the substring is inside the string\n",
    "\n",
    "pets = \"cats & dogs\"\n",
    "\n",
    "print(\"cats\" in pets)\n",
    "\"dragons\" in pets"
   ]
  },
  {
   "cell_type": "code",
   "execution_count": 5,
   "id": "b8c8dc44",
   "metadata": {},
   "outputs": [
    {
     "name": "stdout",
     "output_type": "stream",
     "text": [
      "a\n",
      "e\n"
     ]
    }
   ],
   "source": [
    "# string[i] - Accesses the character at index i of the string, starting at zero\n",
    "\n",
    "print(\"abcde\"[0])\n",
    "print(\"abcde\"[-1])"
   ]
  },
  {
   "cell_type": "code",
   "execution_count": 7,
   "id": "0388f106",
   "metadata": {},
   "outputs": [
    {
     "name": "stdout",
     "output_type": "stream",
     "text": [
      "1\n",
      "0\n"
     ]
    },
    {
     "data": {
      "text/plain": [
       "'s'"
      ]
     },
     "execution_count": 7,
     "metadata": {},
     "output_type": "execute_result"
    }
   ],
   "source": [
    "# .index() : to find out the single string  or specific string value\n",
    "\n",
    "name = \"spandana,polana\"\n",
    "print(name.index(\"p\"))\n",
    "print(name.index(\"spandana\"))\n",
    "name[0]"
   ]
  },
  {
   "cell_type": "code",
   "execution_count": 8,
   "id": "29b47c15",
   "metadata": {},
   "outputs": [
    {
     "data": {
      "text/plain": [
       "5"
      ]
     },
     "execution_count": 8,
     "metadata": {},
     "output_type": "execute_result"
    }
   ],
   "source": [
    "# .count() : used to count the specific string how many times repeated in a given string\n",
    "\n",
    "span = \"spandana polana\"\n",
    "span.count(\"a\")"
   ]
  },
  {
   "cell_type": "code",
   "execution_count": 17,
   "id": "625bd058",
   "metadata": {},
   "outputs": [
    {
     "name": "stdout",
     "output_type": "stream",
     "text": [
      "['spandanapolana', 'vamsi', 'krishna']\n",
      "['abc', 'def', 'ghi']\n"
     ]
    }
   ],
   "source": [
    "# .split() : 'to split the given single string into seperated small stings', this method is inverse of join() method.\n",
    "#             By default, it splits by any whitespace characters. You can also split by any other characters by passing a parameter.\n",
    "\n",
    "span = \"spandanapolana vamsi krishna\"\n",
    "print(span.split())\n",
    "\n",
    "print(\"abc1def1ghi\".split(\"1\"))\n"
   ]
  },
  {
   "cell_type": "code",
   "execution_count": 24,
   "id": "02ea8bd6",
   "metadata": {},
   "outputs": [
    {
     "name": "stdout",
     "output_type": "stream",
     "text": [
      "SPANDANA POLANA\n"
     ]
    },
    {
     "data": {
      "text/plain": [
       "'spandana polana'"
      ]
     },
     "execution_count": 24,
     "metadata": {},
     "output_type": "execute_result"
    }
   ],
   "source": [
    "# .upper() and .lower()\n",
    "\n",
    "span = \"spandana polana\"\n",
    "print(span.upper())\n",
    "span.lower()"
   ]
  },
  {
   "cell_type": "code",
   "execution_count": 11,
   "id": "a1a8c591",
   "metadata": {},
   "outputs": [
    {
     "name": "stdout",
     "output_type": "stream",
     "text": [
      "True\n",
      "False\n",
      "False\n"
     ]
    }
   ],
   "source": [
    "# .isnumeric() : If the string contains only numbers, this method will return True.\n",
    "\n",
    "span = \"12345\"\n",
    "print(span.isnumeric())\n",
    "\n",
    "print(\"123.45\".isnumeric())\n",
    "\n",
    "print(\"-12345\".isnumeric())"
   ]
  },
  {
   "cell_type": "code",
   "execution_count": 13,
   "id": "50e5bdf6",
   "metadata": {},
   "outputs": [
    {
     "name": "stdout",
     "output_type": "stream",
     "text": [
      "True\n",
      "False\n"
     ]
    }
   ],
   "source": [
    "# string.isalpha() :Returns True if there are only letters in the string. If not, returns False.\n",
    "\n",
    "print(\"abc\".isalpha())\n",
    "\n",
    "print(\"abc.123\".isalpha())"
   ]
  },
  {
   "cell_type": "code",
   "execution_count": 34,
   "id": "c9900c19",
   "metadata": {},
   "outputs": [
    {
     "name": "stdout",
     "output_type": "stream",
     "text": [
      "login approved\n"
     ]
    }
   ],
   "source": [
    "# lower(): real world example\n",
    "\n",
    "user_answer = \"Yes\"\n",
    "if user_answer.lower() == \"yes\":\n",
    "    print(\"login approved\")"
   ]
  },
  {
   "cell_type": "code",
   "execution_count": 38,
   "id": "280c1d72",
   "metadata": {},
   "outputs": [
    {
     "data": {
      "text/plain": [
       "True"
      ]
     },
     "execution_count": 38,
     "metadata": {},
     "output_type": "execute_result"
    }
   ],
   "source": [
    "# .endswith(): to check whether the given i/p string ends with specific string or not\n",
    "\n",
    "span = \"wild forest\"\n",
    "span.endswith(\"rest\")"
   ]
  },
  {
   "cell_type": "code",
   "execution_count": 20,
   "id": "260b14b8",
   "metadata": {},
   "outputs": [
    {
     "name": "stdout",
     "output_type": "stream",
     "text": [
      "wife of vamsi\n"
     ]
    }
   ],
   "source": [
    "# string.replace(old, new) - Returns a new string where all occurrences of old have been replaced by new.\n",
    "\n",
    "span = 'lover of vamsi'\n",
    "print(span.replace('lover','wife'))"
   ]
  },
  {
   "cell_type": "code",
   "execution_count": 69,
   "id": "98389beb",
   "metadata": {},
   "outputs": [
    {
     "name": "stdout",
     "output_type": "stream",
     "text": [
      "spandi**\n",
      "spandi**\n",
      "   spandi\n"
     ]
    }
   ],
   "source": [
    "# .strip() , .lstrip() , .rstrip()\n",
    "\n",
    "span = \"   spandi**\"\n",
    "print(span.strip())     # removes white spaces on both sides.Whitespace includes spaces, tabs, and newline characters. \n",
    "print(span.lstrip())    # removes left side white spaces only\n",
    "print(span.strip(\"**\")) # removes specified string in right side only\n"
   ]
  },
  {
   "cell_type": "code",
   "execution_count": 22,
   "id": "2a5bc7e4",
   "metadata": {},
   "outputs": [
    {
     "name": "stdout",
     "output_type": "stream",
     "text": [
      "wife-of-vamsi-krishan-sesham\n",
      "v a m s i\n",
      "s p a n\n",
      "vamsi krishna sesham\n",
      "v***a***m***s***i\n",
      "vamsi***krishna***sesham\n",
      "vspanaspanmspansspani\n",
      "vspan aspan mspan sspan i\n",
      "vspanaspanmspansspanispan \n"
     ]
    }
   ],
   "source": [
    "# delimiter.join(list of strings):\n",
    "\n",
    "span = \"wife of vamsi krishan sesham\"\n",
    "print(\"-\".join(span.split()))\n",
    "\n",
    "s = \" \"\n",
    "print(s.join(\"vamsi\"))\n",
    "print(\" \".join(\"span\"))\n",
    "print(s.join([\"vamsi\",\"krishna\",\"sesham\"]))\n",
    "\n",
    "print(\"***\".join(\"vamsi\"))\n",
    "print(\"***\".join([\"vamsi\",\"krishna\",\"sesham\"]))\n",
    "\n",
    "print(\"span\".join(\"vamsi\"))\n",
    "print(\"span \".join(\"vamsi\"))\n",
    "print(\"span\".join(\"vamsi \"))"
   ]
  },
  {
   "cell_type": "code",
   "execution_count": 66,
   "id": "d1cdccbb",
   "metadata": {},
   "outputs": [
    {
     "data": {
      "text/plain": [
       "246"
      ]
     },
     "execution_count": 66,
     "metadata": {},
     "output_type": "execute_result"
    }
   ],
   "source": [
    "int(\"123\") + int(\"123\")"
   ]
  },
  {
   "cell_type": "code",
   "execution_count": null,
   "id": "310cc8ec",
   "metadata": {},
   "outputs": [],
   "source": []
  },
  {
   "cell_type": "code",
   "execution_count": null,
   "id": "c7de9090",
   "metadata": {},
   "outputs": [],
   "source": []
  },
  {
   "cell_type": "code",
   "execution_count": 107,
   "id": "10fb8a66",
   "metadata": {},
   "outputs": [],
   "source": [
    "# Instead of using + sign and str() to combine the strings to print in print() we use advaned method .format i.e \" string formating\""
   ]
  },
  {
   "cell_type": "code",
   "execution_count": 77,
   "id": "8a4b2450",
   "metadata": {},
   "outputs": [],
   "source": [
    "# string formating : use the 'format method' on strings to concatenate and format strings in all kinds of powerful ways. \n",
    "#                    To do this, create a string containing curly brackets, {}, as a placeholder, to be replaced.\n",
    "#                    Then call the format method on the string using .format() and pass variables as parameters. \n",
    "#                    The variables passed to the method will then be used to replace the curly bracket placeholders.\n",
    "\n",
    "#  However, you can put certain expressions inside the curly brackets to do even more powerful string formatting.\n",
    "#    For example: The formatting expression {:.2f} means that you’d format this as a float number, with two digits after the decimal dot. \n",
    "#               The colon acts as a separator from the field name, if you had specified one.\n",
    "\n",
    "#    you can also specify text alignment using the greater than operator: >.\n",
    "#    For example : The expression {:>3.2f} would align the text three spaces to the right, \n",
    "#                  as well as specify a float number with two decimal places\n"
   ]
  },
  {
   "cell_type": "code",
   "execution_count": 29,
   "id": "51aa1fc4",
   "metadata": {},
   "outputs": [
    {
     "name": "stdout",
     "output_type": "stream",
     "text": [
      "student vamsi received 94% overall grade\n"
     ]
    }
   ],
   "source": [
    "# 1\n",
    "\n",
    "def student_grade(name,grade):\n",
    "    print(\"student {} received {}% overall grade\".format(name,grade))\n",
    "    \n",
    "    \n",
    "student_grade(\"vamsi\",94)"
   ]
  },
  {
   "cell_type": "code",
   "execution_count": 33,
   "id": "12ee3a37",
   "metadata": {},
   "outputs": [
    {
     "name": "stdout",
     "output_type": "stream",
     "text": [
      "student vamsi received 94% overall grade and the class topper is vamsi\n"
     ]
    }
   ],
   "source": [
    "# 2\n",
    "\n",
    "def student_grade(name,grade):\n",
    "    print(\"student {0} received {1}% overall grade and the class topper is {0}\".format(name,grade))\n",
    "    \n",
    "student_grade(\"vamsi\",94)"
   ]
  },
  {
   "cell_type": "code",
   "execution_count": 84,
   "id": "a5403495",
   "metadata": {},
   "outputs": [
    {
     "name": "stdout",
     "output_type": "stream",
     "text": [
      "Helo vamsi,your lucky number is 9\n"
     ]
    }
   ],
   "source": [
    "# 3\n",
    "\n",
    "name = \"vamsi\"\n",
    "print(\"Helo {name},your lucky number is {number}\".format(name = name,number = len(name) * 2-1))"
   ]
  },
  {
   "cell_type": "code",
   "execution_count": 87,
   "id": "795de0ab",
   "metadata": {},
   "outputs": [
    {
     "name": "stdout",
     "output_type": "stream",
     "text": [
      "fahrenheit 0 f | celcius -17.77777777777778 c\n",
      "fahrenheit 10 f | celcius -12.222222222222223 c\n",
      "fahrenheit 20 f | celcius -6.666666666666667 c\n",
      "fahrenheit 30 f | celcius -1.1111111111111112 c\n",
      "fahrenheit 40 f | celcius 4.444444444444445 c\n",
      "fahrenheit 50 f | celcius 10.0 c\n",
      "fahrenheit 60 f | celcius 15.555555555555557 c\n",
      "fahrenheit 70 f | celcius 21.11111111111111 c\n",
      "fahrenheit 80 f | celcius 26.666666666666668 c\n",
      "fahrenheit 90 f | celcius 32.22222222222222 c\n",
      "fahrenheit 100 f | celcius 37.77777777777778 c\n"
     ]
    }
   ],
   "source": [
    " \n",
    "def to_celcius(f):\n",
    "    result = (f - 32) * (5/9)\n",
    "    return result\n",
    "\n",
    "for f in range(0,101,10):\n",
    "    print(\"fahrenheit {} f | celcius {} c\".format(f,to_celcius(f)))\n"
   ]
  },
  {
   "cell_type": "code",
   "execution_count": 106,
   "id": "d861b7c1",
   "metadata": {},
   "outputs": [
    {
     "name": "stdout",
     "output_type": "stream",
     "text": [
      "fahrenheit   0 f | celcius  -17.78 c\n",
      "fahrenheit  10 f | celcius  -12.22 c\n",
      "fahrenheit  20 f | celcius   -6.67 c\n",
      "fahrenheit  30 f | celcius   -1.11 c\n",
      "fahrenheit  40 f | celcius    4.44 c\n",
      "fahrenheit  50 f | celcius   10.00 c\n",
      "fahrenheit  60 f | celcius   15.56 c\n",
      "fahrenheit  70 f | celcius   21.11 c\n",
      "fahrenheit  80 f | celcius   26.67 c\n",
      "fahrenheit  90 f | celcius   32.22 c\n",
      "fahrenheit 100 f | celcius   37.78 c\n"
     ]
    }
   ],
   "source": [
    "# 4 : Real world example            The expression {:>3.2f} would align the text three spaces to the right, \n",
    "#                                   as well as specify a float number with 2 decimal places\n",
    "\n",
    "def to_celcius(f):\n",
    "    return (f - 32) * 5/9\n",
    "for f in range(0,101,10):\n",
    "    print(\"fahrenheit {:>3} f | celcius {:>7.2f} c\".format(f,to_celcius(f)))"
   ]
  },
  {
   "cell_type": "code",
   "execution_count": 43,
   "id": "77ce07d0",
   "metadata": {},
   "outputs": [
    {
     "name": "stdout",
     "output_type": "stream",
     "text": [
      "subtotal is:6   included tax is:0.42   total price is:6.42\n"
     ]
    }
   ],
   "source": [
    "# real world example 2:\n",
    "\n",
    "# imagine you are working in a farmer’s market and need to generate receipts for your customers. \n",
    "# You need to weigh the items, calculate the subtotal price for each item (weight times the price per kg),\n",
    "# and then add sales tax to the subtotal for total price. \n",
    "\n",
    "# This is the example for only 1 item in the basket:\n",
    "\n",
    "def basket(name,weight,per_kg_price):\n",
    "    \n",
    "    subtotal = weight * per_kg_price\n",
    "    tax = subtotal * 0.07\n",
    "    total = subtotal + tax\n",
    "    print('subtotal is:{stl}   included tax is:{tax:.2f}   total price is:{ttl}'.format(stl = subtotal,tax = tax,ttl = total))\n",
    "    \n",
    "basket('apple',3,2)\n"
   ]
  },
  {
   "cell_type": "code",
   "execution_count": 57,
   "id": "4d869924",
   "metadata": {},
   "outputs": [
    {
     "name": "stdout",
     "output_type": "stream",
     "text": [
      "subtotal:12 tax: 0.84 total: 12.84\n"
     ]
    }
   ],
   "source": [
    "# This is the example for multiple(a list of items) in the basket:\n",
    "\n",
    "def receipt(basket):\n",
    "    subtotal = 0\n",
    "    for item in basket:\n",
    "        name,weight,per_kg_price = item\n",
    "        subtotal = subtotal + weight * per_kg_price\n",
    "        tax = subtotal * 0.07\n",
    "        total = subtotal + tax\n",
    "    print('subtotal:{} tax:{:>5.2f} total:{:>6}'.format(subtotal,tax,total))\n",
    "    \n",
    "receipt([('apple',2,2),('banana',2,2),('karrot',2,2)])\n",
    "        "
   ]
  },
  {
   "cell_type": "code",
   "execution_count": 70,
   "id": "b1f42b10",
   "metadata": {},
   "outputs": [
    {
     "name": "stdout",
     "output_type": "stream",
     "text": [
      "Subtotal: 12.0\n",
      "Sales Tax: 0.8400000000000001\n",
      "Total: 12.84\n"
     ]
    }
   ],
   "source": [
    "# or \n",
    "\n",
    "# Here are the items in the customer's basket. Each item is a tuple\n",
    "# of (item name, weight, price per kg).\n",
    "\n",
    "basket = [('apple',2,2),('banana',2,2),('karrot',2,2)]\n",
    "\n",
    "# Calculate the total price for each item (weight times price per kg)\n",
    "# and add them up to get a subtotal.\n",
    "\n",
    "subtotal = 0.00\n",
    "tax_rate = 0.07 # 7% sales tax in germany\n",
    "for item in basket:\n",
    "    fruit,weight,unit_price = item\n",
    "    subtotal += (weight * unit_price)\n",
    "    tax_amt = subtotal * tax_rate\n",
    "    total = subtotal + tax_amt\n",
    "\n",
    "# Print the receipt for the customer.\n",
    "\n",
    "print(\"Subtotal:\", subtotal)\n",
    "print(\"Sales Tax:\", tax_amt)\n",
    "print(\"Total:\", total)\n"
   ]
  },
  {
   "cell_type": "code",
   "execution_count": null,
   "id": "80e887d6",
   "metadata": {},
   "outputs": [],
   "source": []
  },
  {
   "cell_type": "code",
   "execution_count": null,
   "id": "7ead37bd",
   "metadata": {},
   "outputs": [],
   "source": []
  },
  {
   "cell_type": "code",
   "execution_count": null,
   "id": "1f426bde",
   "metadata": {},
   "outputs": [],
   "source": []
  },
  {
   "cell_type": "code",
   "execution_count": null,
   "id": "a6713d10",
   "metadata": {},
   "outputs": [],
   "source": []
  },
  {
   "cell_type": "code",
   "execution_count": null,
   "id": "d6df3b6c",
   "metadata": {},
   "outputs": [],
   "source": []
  },
  {
   "cell_type": "code",
   "execution_count": null,
   "id": "93fa7197",
   "metadata": {},
   "outputs": [],
   "source": [
    "# string quiz questions"
   ]
  },
  {
   "cell_type": "code",
   "execution_count": 15,
   "id": "16110d30",
   "metadata": {},
   "outputs": [
    {
     "data": {
      "text/plain": [
       "'palindrome'"
      ]
     },
     "execution_count": 15,
     "metadata": {},
     "output_type": "execute_result"
    }
   ],
   "source": [
    "# 1\n",
    "\n",
    "# Use a for loop to iterate through each letter of a string. \n",
    "# Add a character to the front of a string.\n",
    "# and Add a character to the end of a string.\n",
    "# Use the .lower() string method to convert the case (uppercase/lowercase) of the letters within a string variable. \n",
    "\n",
    "\n",
    "# the above question answer is 'Palindrome':\n",
    "\n",
    "def is_palindrome(name):\n",
    "    forward = \"\"\n",
    "    backward = \"\"\n",
    "    for char in name:                     # \"29092\",\"madam\",\"noon\",\"spanaps\"\n",
    "        if char.isalpha() or char.isnumeric():\n",
    "            forward = forward + char\n",
    "            backward = char + backward\n",
    "    if forward.lower() == backward.lower():\n",
    "        return \"palindrome\"\n",
    "    return \"Not a Palindrome\"\n",
    "\n",
    "is_palindrome('Noon')\n",
    "            \n",
    "\n"
   ]
  },
  {
   "cell_type": "code",
   "execution_count": 24,
   "id": "8a11c6d4",
   "metadata": {},
   "outputs": [
    {
     "name": "stdout",
     "output_type": "stream",
     "text": [
      "Username is: pol1999\n"
     ]
    }
   ],
   "source": [
    "# 2\n",
    "\n",
    "# Within the format() parameters, select characters at specific index [ ] positions from a variable string.  \n",
    "# Use the format() method, with {} placeholders for variable data, to create a new string.\n",
    "\n",
    "def username(last_name,dob):\n",
    "    print('Username is: {}{}'.format(last_name[0:3],dob))\n",
    "    \n",
    "username('polana','1999')\n"
   ]
  },
  {
   "cell_type": "code",
   "execution_count": 46,
   "id": "0911003a",
   "metadata": {},
   "outputs": [
    {
     "name": "stdout",
     "output_type": "stream",
     "text": [
      "In May the CEO will hold a conference\n"
     ]
    }
   ],
   "source": [
    "# 3\n",
    "\n",
    "# Use the .replace() method to replace part of a string.  \n",
    "# Use the len() function to get the number of index positions in a string.\n",
    "# Slice a string at a specific index position.\n",
    "\n",
    "# answer : This function checks a given schedule entry for an old date and, if found, the function replaces it with a new date.\n",
    "\n",
    "def replace(schedule,old_date,new_date):\n",
    "    if old_date in schedule:\n",
    "        p = schedule.index(old_date)     # gives starting index of old_date\n",
    "        new_schedule = schedule[:p] + schedule[p:].replace(old_date,new_date)\n",
    "        print(new_schedule)\n",
    "    \n",
    "    \n",
    "replace(\"In April the CEO will hold a conference\", \"April\", \"May\")"
   ]
  },
  {
   "cell_type": "code",
   "execution_count": 50,
   "id": "dab6e0b6",
   "metadata": {},
   "outputs": [
    {
     "name": "stdout",
     "output_type": "stream",
     "text": [
      "Last year’s annual report will be released in March 2024\n",
      "In April, the CEO will hold a conference\n"
     ]
    }
   ],
   "source": [
    "# or \n",
    "\n",
    "def replace_date(schedule, old_date, new_date):\n",
    "    if schedule.endswith(old_date):                # takes only endswith(old_date)\n",
    "        p = len(old_date)   # gives length of old_date\n",
    "        new_schedule = schedule[:-p] + schedule[-p:].replace(old_date, new_date)\n",
    "        return new_schedule\n",
    "    return schedule\n",
    "\n",
    "print(replace_date(\"Last year’s annual report will be released in March 2023\", \"2023\", \"2024\"))\n",
    "print(replace_date(\"In April, the CEO will hold a conference\", \"April\", \"May\"))  # This schedule is not changed because condition only checks endswith(old_date) "
   ]
  },
  {
   "cell_type": "code",
   "execution_count": null,
   "id": "d8b3fd50",
   "metadata": {},
   "outputs": [],
   "source": []
  }
 ],
 "metadata": {
  "kernelspec": {
   "display_name": "Python 3 (ipykernel)",
   "language": "python",
   "name": "python3"
  },
  "language_info": {
   "codemirror_mode": {
    "name": "ipython",
    "version": 3
   },
   "file_extension": ".py",
   "mimetype": "text/x-python",
   "name": "python",
   "nbconvert_exporter": "python",
   "pygments_lexer": "ipython3",
   "version": "3.11.4"
  }
 },
 "nbformat": 4,
 "nbformat_minor": 5
}
