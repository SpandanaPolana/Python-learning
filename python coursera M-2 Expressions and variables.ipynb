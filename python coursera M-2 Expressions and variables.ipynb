{
 "cells": [
  {
   "cell_type": "code",
   "execution_count": 2,
   "id": "2668189c",
   "metadata": {},
   "outputs": [
    {
     "name": "stdout",
     "output_type": "stream",
     "text": [
      "hello\n"
     ]
    }
   ],
   "source": [
    "print('hello')\n"
   ]
  },
  {
   "cell_type": "code",
   "execution_count": 11,
   "id": "34fa37de",
   "metadata": {},
   "outputs": [
    {
     "name": "stdout",
     "output_type": "stream",
     "text": [
      "9\n"
     ]
    }
   ],
   "source": [
    "# ** is used for power in python \n",
    "print(3**2)"
   ]
  },
  {
   "cell_type": "code",
   "execution_count": 3,
   "id": "319e3bce",
   "metadata": {},
   "outputs": [
    {
     "name": "stdout",
     "output_type": "stream",
     "text": [
      "2.0\n"
     ]
    }
   ],
   "source": [
    "print(4**0.5)"
   ]
  },
  {
   "cell_type": "code",
   "execution_count": 4,
   "id": "5c2c5000",
   "metadata": {},
   "outputs": [
    {
     "name": "stdout",
     "output_type": "stream",
     "text": [
      "hello     vamsi   spandana\n"
     ]
    }
   ],
   "source": [
    "print(\"hello     vamsi   spandana\")"
   ]
  },
  {
   "cell_type": "code",
   "execution_count": 53,
   "id": "d3cffef2",
   "metadata": {},
   "outputs": [
    {
     "name": "stdout",
     "output_type": "stream",
     "text": [
      "<class 'str'> <class 'int'>\n"
     ]
    }
   ],
   "source": [
    "# type()\n",
    "x = \"span\"\n",
    "y = 90\n",
    "print(type(x), type(y))"
   ]
  },
  {
   "cell_type": "code",
   "execution_count": 12,
   "id": "e5700e61",
   "metadata": {},
   "outputs": [
    {
     "ename": "TypeError",
     "evalue": "can only concatenate str (not \"int\") to str",
     "output_type": "error",
     "traceback": [
      "\u001b[1;31m---------------------------------------------------------------------------\u001b[0m",
      "\u001b[1;31mTypeError\u001b[0m                                 Traceback (most recent call last)",
      "Cell \u001b[1;32mIn[12], line 2\u001b[0m\n\u001b[0;32m      1\u001b[0m \u001b[38;5;66;03m# in python string is not combined with either 'int' or 'float'\u001b[39;00m\n\u001b[1;32m----> 2\u001b[0m \u001b[38;5;28mprint\u001b[39m(\u001b[38;5;124m\"\u001b[39m\u001b[38;5;124mhello\u001b[39m\u001b[38;5;124m\"\u001b[39m\u001b[38;5;241m+\u001b[39m\u001b[38;5;241m2\u001b[39m)\n",
      "\u001b[1;31mTypeError\u001b[0m: can only concatenate str (not \"int\") to str"
     ]
    }
   ],
   "source": [
    "# in python string is not combined with either 'int' or 'float'\n",
    "print(\"hello\"+2)"
   ]
  },
  {
   "cell_type": "code",
   "execution_count": 29,
   "id": "a6708add",
   "metadata": {},
   "outputs": [
    {
     "name": "stdout",
     "output_type": "stream",
     "text": [
      "area of rectangle is:6\n"
     ]
    }
   ],
   "source": [
    "# Explicit conversion: \" convert one data type to another manually by calling a function with the name of type we're converting to\"\n",
    "# in python string is not combines with float/int but you can combine by convert  int/float to string by using 'str'\n",
    "length = 2\n",
    "breadth = 3\n",
    "area = length * breadth\n",
    "print(\"area of rectangle is:\"+ str(area))"
   ]
  },
  {
   "cell_type": "code",
   "execution_count": 27,
   "id": "7ebb93b3",
   "metadata": {},
   "outputs": [
    {
     "name": "stdout",
     "output_type": "stream",
     "text": [
      "5.2\n"
     ]
    }
   ],
   "source": [
    "#Implicitconversion:\"The interpreter automatically converts one data type into another\"\n",
    "\n",
    "print(5+0.2)"
   ]
  },
  {
   "cell_type": "code",
   "execution_count": 6,
   "id": "3fe011f8",
   "metadata": {},
   "outputs": [],
   "source": [
    "def sum_div(x):\n",
    "    return x+5\n",
    "\n",
    "    "
   ]
  },
  {
   "cell_type": "code",
   "execution_count": 7,
   "id": "546c0337",
   "metadata": {},
   "outputs": [
    {
     "data": {
      "text/plain": [
       "11"
      ]
     },
     "execution_count": 7,
     "metadata": {},
     "output_type": "execute_result"
    }
   ],
   "source": [
    "sum_div(6)\n"
   ]
  },
  {
   "cell_type": "code",
   "execution_count": 8,
   "id": "aa28798a",
   "metadata": {},
   "outputs": [
    {
     "data": {
      "text/plain": [
       "12"
      ]
     },
     "execution_count": 8,
     "metadata": {},
     "output_type": "execute_result"
    }
   ],
   "source": [
    "sum_div(7)"
   ]
  },
  {
   "cell_type": "code",
   "execution_count": 9,
   "id": "2c4db188",
   "metadata": {},
   "outputs": [],
   "source": [
    "# convert Fahrenheit to celsius using functions\n",
    "def fahr_to_cel(x):\n",
    "    return (x-32)*5/9\n"
   ]
  },
  {
   "cell_type": "code",
   "execution_count": 30,
   "id": "1cbf50da",
   "metadata": {},
   "outputs": [
    {
     "data": {
      "text/plain": [
       "17.22222222222222"
      ]
     },
     "execution_count": 30,
     "metadata": {},
     "output_type": "execute_result"
    }
   ],
   "source": [
    "fahr_to_cel(63)"
   ]
  },
  {
   "cell_type": "code",
   "execution_count": 22,
   "id": "d8ffe3dc",
   "metadata": {},
   "outputs": [],
   "source": [
    "# check if a number is positive , negitive or zero using conditional statements\n",
    "def check_number(number):\n",
    "    if number == 0:\n",
    "        print(\"number is zero\")\n",
    "    elif number > 0:\n",
    "        print(\"number is positive\")\n",
    "    else:\n",
    "        print(\"number is negitive\")\n",
    " "
   ]
  },
  {
   "cell_type": "code",
   "execution_count": 20,
   "id": "e03dcc41",
   "metadata": {},
   "outputs": [
    {
     "name": "stdout",
     "output_type": "stream",
     "text": [
      "number is negitive\n"
     ]
    }
   ],
   "source": [
    "check_number(-2)"
   ]
  },
  {
   "cell_type": "code",
   "execution_count": 32,
   "id": "8b562130",
   "metadata": {},
   "outputs": [
    {
     "name": "stdout",
     "output_type": "stream",
     "text": [
      "Each person needs to pay is:27.0\n"
     ]
    }
   ],
   "source": [
    "# 1. Use variables to store values\n",
    "# Use basic arithmetic operators with variables to create expressions\n",
    "# Use explicit conversion to change a data type from float to string\n",
    "\n",
    "# example: there is one 'shared' hotel room for 4 members. findout each person needs to pay for that shared room .\n",
    "#          the room charges may include original room cost+tax\n",
    "\n",
    "room_cost = 100\n",
    "tax_room = 100 * 0.08   # 10% tax of 100 is 100*0.10(100*10/100)=10 , 8% tax of 100 is 100*0.08(100*8/100)=8\n",
    "total = room_cost + tax_room  # 100+8=108\n",
    "persons_per_room = 4\n",
    "share_per_person = total/persons_per_room\n",
    "print(\"Each person needs to pay is:\"+ str(share_per_person))\n",
    "\n"
   ]
  },
  {
   "cell_type": "code",
   "execution_count": 38,
   "id": "9e293fb7",
   "metadata": {},
   "outputs": [
    {
     "name": "stdout",
     "output_type": "stream",
     "text": [
      "sandhya,bharath   spandana=vamsi  roja:rose\n"
     ]
    }
   ],
   "source": [
    "print(\"sandhya,bharath   spandana=vamsi  roja:rose\")"
   ]
  },
  {
   "cell_type": "code",
   "execution_count": 49,
   "id": "2c070bd5",
   "metadata": {},
   "outputs": [
    {
     "name": "stdout",
     "output_type": "stream",
     "text": [
      "vamsi krishna sesham , B.tech\n",
      "vamsi krishna sesham, B.tech\n"
     ]
    }
   ],
   "source": [
    "# 2. Output multiple 'string variables' on a single line to form a sentence\n",
    "# Use the plus (+) connector or a comma(,) to connect strings in a print() function\n",
    "# Create spaces between variables in  a print() function\n",
    "\n",
    "first_name = \"vamsi\"\n",
    "middle_name = \"krishna\"\n",
    "last_name = \"sesham\"\n",
    "suffix = \"B.tech\"\n",
    "print(first_name,middle_name,last_name,\",\",suffix)   # when we use comma(,) it automatically creates space b/w words\n",
    "print(first_name +\" \"+ middle_name + \" \"+last_name + \",\" + \" \"+suffix)"
   ]
  },
  {
   "cell_type": "code",
   "execution_count": null,
   "id": "6938e10b",
   "metadata": {},
   "outputs": [],
   "source": []
  }
 ],
 "metadata": {
  "kernelspec": {
   "display_name": "Python 3 (ipykernel)",
   "language": "python",
   "name": "python3"
  },
  "language_info": {
   "codemirror_mode": {
    "name": "ipython",
    "version": 3
   },
   "file_extension": ".py",
   "mimetype": "text/x-python",
   "name": "python",
   "nbconvert_exporter": "python",
   "pygments_lexer": "ipython3",
   "version": "3.11.4"
  }
 },
 "nbformat": 4,
 "nbformat_minor": 5
}
