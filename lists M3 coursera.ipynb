{
 "cells": [
  {
   "cell_type": "code",
   "execution_count": 1,
   "id": "6694f937",
   "metadata": {},
   "outputs": [],
   "source": [
    "# List comprehensions: list comprehensions provide a concise way to create lists based on existing lists or sequences. \n",
    "#                      It produces \"one line code\", and these “one-liners” are very useful and dramatically reduce overhead. "
   ]
  },
  {
   "cell_type": "code",
   "execution_count": 18,
   "id": "b4324acc",
   "metadata": {},
   "outputs": [
    {
     "name": "stdout",
     "output_type": "stream",
     "text": [
      "None\n",
      "None\n",
      "None\n",
      "None\n",
      "None\n"
     ]
    }
   ],
   "source": [
    "# normal for loop\n",
    "\n",
    "sequence = range(10)\n",
    "new_list = []\n",
    "for x in sequence:\n",
    "    if x % 2 == 0:\n",
    "        print(new_list.append(x))   # there is a something mistake in this code bit o/p is [0,2,4,6,8]"
   ]
  },
  {
   "cell_type": "code",
   "execution_count": 5,
   "id": "6a5f48e2",
   "metadata": {},
   "outputs": [
    {
     "name": "stdout",
     "output_type": "stream",
     "text": [
      "[0, 2, 4, 6, 8]\n"
     ]
    }
   ],
   "source": [
    "# With a \"list comprehension\", you could achieve the same result in a \"more concise way\":\n",
    "\n",
    "sequence = range(10)\n",
    "new_list = [x for x in sequence if x%2 == 0]\n",
    "print(new_list)\n"
   ]
  },
  {
   "cell_type": "code",
   "execution_count": 12,
   "id": "4e8e3928",
   "metadata": {},
   "outputs": [
    {
     "name": "stdout",
     "output_type": "stream",
     "text": [
      "*****\n"
     ]
    }
   ],
   "source": [
    "# an example of a useful \"one-liner\" is:\n",
    "\n",
    "print(\"*\" * 5)"
   ]
  },
  {
   "cell_type": "code",
   "execution_count": null,
   "id": "6e695247",
   "metadata": {},
   "outputs": [],
   "source": []
  }
 ],
 "metadata": {
  "kernelspec": {
   "display_name": "Python 3 (ipykernel)",
   "language": "python",
   "name": "python3"
  },
  "language_info": {
   "codemirror_mode": {
    "name": "ipython",
    "version": 3
   },
   "file_extension": ".py",
   "mimetype": "text/x-python",
   "name": "python",
   "nbconvert_exporter": "python",
   "pygments_lexer": "ipython3",
   "version": "3.11.4"
  }
 },
 "nbformat": 4,
 "nbformat_minor": 5
}
