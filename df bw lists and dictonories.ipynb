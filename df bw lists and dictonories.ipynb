{
 "cells": [
  {
   "cell_type": "code",
   "execution_count": 9,
   "id": "84f936e9",
   "metadata": {},
   "outputs": [],
   "source": [
    "# Key Differences Between List and Dictionary in Python:\n",
    "\n",
    "#1. A list is an ordered collection of items, whereas a dictionary is an unordered data collection in a key: value pair.\n",
    "\n",
    "#2. Elements from the list can be accessed using the index, while the elements of the dictionary can be accessed using keys.\n",
    "\n",
    "#3. The list allows duplicate items, while the dictionary does not allow any duplicate keys but alows duplicate values.\n",
    "\n",
    "#4. A list can store any data type. In contrast, keys in the dictionary can be of any immutable data type, and values can be of any data type.\n",
    "\n",
    "#5.* Lists perform faster for 'ordered operations like sorting', while dictionaries perform 'faster for (search)lookup operations' '''\n",
    "\n",
    "# 6 * make it quicker and easier for a Python interpreter to find specific elements, as compared to a list.\n",
    "\n",
    "# Let's say you have a dictionary that has usernames as keys and the groups they belong to as values. \n",
    "# It doesn't matter if you have 10 users or 10,000 users, accessing the entry for a given user will take the same time. Amazing! \n",
    "# But this isn't true for lists. If you've got a list of 10 elements and you need to check if one element is in the list, it'll be a very fast check. \n",
    "# But if your list has 10,000 elements, it'll take significantly longer to check if the element you're looking for is there.\n",
    "# So in general, you want to use dictionaries when you plan on searching for a specific element."
   ]
  },
  {
   "cell_type": "code",
   "execution_count": null,
   "id": "4c07f420",
   "metadata": {},
   "outputs": [],
   "source": []
  },
  {
   "cell_type": "code",
   "execution_count": 8,
   "id": "659d26a4",
   "metadata": {},
   "outputs": [],
   "source": [
    "# d/f b/w Lists and Tuples why we introduce tuples:\n",
    "\n",
    "# Tuples can be useful when we need to ensure that an element is in a certain position and will not change. \n",
    "# Since lists are mutable, the order of the elements can be changed on us. \n",
    "# Since the order of the elements in a tuple can't be changed, the position of the element in a tuple can have meaning.\n",
    "# The order of the returned values is important, and a tuple ensures that the order isn’t going to change. \n",
    "\n",
    "# for ex in tuple: for x,y in input"
   ]
  },
  {
   "cell_type": "code",
   "execution_count": null,
   "id": "14e0b53e",
   "metadata": {},
   "outputs": [],
   "source": []
  },
  {
   "cell_type": "code",
   "execution_count": 5,
   "id": "e879f9f9",
   "metadata": {},
   "outputs": [],
   "source": [
    "# set : consists unordered set of unique elements(either int / float / string /..) can be changable.\n",
    "#       \"Mutable but allows unique elements only\"\n",
    "#        x = (), x = set()"
   ]
  },
  {
   "cell_type": "code",
   "execution_count": null,
   "id": "65ce3350",
   "metadata": {},
   "outputs": [],
   "source": []
  },
  {
   "cell_type": "code",
   "execution_count": 6,
   "id": "5d5b17d0",
   "metadata": {},
   "outputs": [],
   "source": [
    "#  list : mutable(changable), allows any data type elements and allows duplicates also."
   ]
  },
  {
   "cell_type": "code",
   "execution_count": null,
   "id": "5ffb19f2",
   "metadata": {},
   "outputs": [],
   "source": []
  },
  {
   "cell_type": "code",
   "execution_count": 7,
   "id": "11210197",
   "metadata": {},
   "outputs": [],
   "source": [
    "# string and Tuple : both are immutable but allows duplicate elements\n",
    "#                    string allows unique elements only but tuple allows any data type elements\n"
   ]
  },
  {
   "cell_type": "code",
   "execution_count": null,
   "id": "d6280796",
   "metadata": {},
   "outputs": [],
   "source": []
  }
 ],
 "metadata": {
  "kernelspec": {
   "display_name": "Python 3 (ipykernel)",
   "language": "python",
   "name": "python3"
  },
  "language_info": {
   "codemirror_mode": {
    "name": "ipython",
    "version": 3
   },
   "file_extension": ".py",
   "mimetype": "text/x-python",
   "name": "python",
   "nbconvert_exporter": "python",
   "pygments_lexer": "ipython3",
   "version": "3.11.4"
  }
 },
 "nbformat": 4,
 "nbformat_minor": 5
}
